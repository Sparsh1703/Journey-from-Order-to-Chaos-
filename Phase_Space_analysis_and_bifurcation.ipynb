{
 "cells": [
  {
   "cell_type": "code",
   "execution_count": null,
   "id": "ec08ed81",
   "metadata": {},
   "outputs": [],
   "source": [
    "import numpy as np\n",
    "import matplotlib.pyplot as plt\n",
    "from scipy.integrate import odeint,solve_ivp\n",
    "import sympy as smp"
   ]
  },
  {
   "cell_type": "markdown",
   "id": "1c6b34cd",
   "metadata": {},
   "source": [
    "## Case1: When initial angles are very small"
   ]
  },
  {
   "cell_type": "code",
   "execution_count": null,
   "id": "ce860dbe",
   "metadata": {},
   "outputs": [],
   "source": [
    "def double_pendulum_system(t,r, delta,mu, epsilon, gamma):\n",
    "    \"\"\"\n",
    "    x1 = theta_1\n",
    "    x2 = theta_1_dot\n",
    "    x3 = theta_2\n",
    "    x4 = theta_2_dot\n",
    "    delta = bT/m\n",
    "    mu = wT\n",
    "    epsilon = gT**2/l\n",
    "    gamma = a*w*T/l\n",
    "    T = 1\n",
    "    \n",
    "    delta,mu, epsilon and gamma are the parameters. They affects the dynamics of the system.\n",
    "    \"\"\"\n",
    "    x1 , x2, x3, x4 = r\n",
    "    \n",
    "    dx1 = x2\n",
    "    dx2 = -(x1-x3)*x4**2-(x1-x3)*x2**2 - delta*x2 - 2*epsilon*x1 + epsilon*x3 - gamma*(2-gamma)*(delta*np.cos(mu*t)-mu*np.sin(mu*t))\n",
    "    dx3 = x4\n",
    "    dx4 = 2*(x1-x3)*x2**2+(x1-x3)*x4**2 - delta*x4 - 2*epsilon*x3 + 2*epsilon*x1 - 2*gamma*(1-gamma)*(delta*np.cos(mu*t)-mu*np.sin(mu*t))\n",
    "\n",
    "    return [dx1, dx2, dx3, dx4]"
   ]
  },
  {
   "cell_type": "code",
   "execution_count": null,
   "id": "5aca8d46",
   "metadata": {},
   "outputs": [],
   "source": [
    "# Considering that initial angles are very small.\n",
    "x1_0 = 0.01\n",
    "x2_0 = 0\n",
    "x3_0 = 0.02\n",
    "x4_0 = 0\n",
    "\n",
    "tStart = 0\n",
    "tEnd = 50\n",
    "\n",
    "delta = 0 # b=0\n",
    "mu = 0.001 #frequency of the vibrating point is very less.\n",
    "epsilon = 9.81 # l=1\n",
    "gamma = 0.0001 # a is small compared to l"
   ]
  },
  {
   "cell_type": "code",
   "execution_count": null,
   "id": "4290ae1b",
   "metadata": {},
   "outputs": [],
   "source": [
    "from scipy import integrate\n",
    "from scipy.integrate import solve_ivp,odeint\n",
    "\n",
    "solution = integrate.solve_ivp(double_pendulum_system, [tStart,tEnd], [x1_0,x2_0,x3_0,x4_0], method = 'RK45', t_eval = np.linspace(tStart,tEnd,101), args = (delta,mu,epsilon,gamma))"
   ]
  },
  {
   "cell_type": "code",
   "execution_count": null,
   "id": "6f26aeb0",
   "metadata": {},
   "outputs": [],
   "source": [
    "plt.rcParams['figure.figsize'] = [40,15]\n",
    "plottrajectory = plt.axes(projection = '3d')\n",
    "plottrajectory.plot3D(solution.y[0],solution.y[2],solution.t, linewidth = 0.8)"
   ]
  },
  {
   "cell_type": "code",
   "execution_count": null,
   "id": "d5369494",
   "metadata": {},
   "outputs": [],
   "source": [
    "plt.savefig('DP Trajectory', dpi = 300)"
   ]
  },
  {
   "cell_type": "code",
   "execution_count": null,
   "id": "bf71b562",
   "metadata": {},
   "outputs": [],
   "source": [
    "plt.plot(solution.t, solution.y[0])\n",
    "plt.xlabel('time')\n",
    "plt.ylabel('x')\n",
    "plt.show()"
   ]
  },
  {
   "cell_type": "code",
   "execution_count": null,
   "id": "cc1f1640",
   "metadata": {},
   "outputs": [],
   "source": [
    "plt.plot(solution.t, solution.y[2])\n",
    "plt.xlabel('time')\n",
    "plt.ylabel('y')\n",
    "plt.show()"
   ]
  },
  {
   "cell_type": "code",
   "execution_count": null,
   "id": "8d044301",
   "metadata": {},
   "outputs": [],
   "source": [
    "plt.plot(solution.t, solution.y[0], c = 'red', label = 'theta_1')\n",
    "plt.plot(solution.t, solution.y[2], c = 'purple', label = 'theta_2')\n",
    "\n",
    "plt.legend()"
   ]
  },
  {
   "cell_type": "code",
   "execution_count": null,
   "id": "94a38ec8",
   "metadata": {},
   "outputs": [],
   "source": [
    "plt.plot(solution.y[0], solution.y[2])\n",
    "plt.xlabel('theta_1')\n",
    "plt.ylabel('theta_2')"
   ]
  },
  {
   "cell_type": "markdown",
   "id": "117aa47b",
   "metadata": {},
   "source": [
    "Now we are about to change the parameters and try to observe if there is any change with the phase space of the system.Also note that the system which we have considered here is only true for small angles. "
   ]
  },
  {
   "cell_type": "code",
   "execution_count": null,
   "id": "f17f7568",
   "metadata": {},
   "outputs": [],
   "source": [
    "delta = 0 # b=0\n",
    "mu = 0.1 #frequency of the vibrating point is 100 times more than the previous one.\n",
    "epsilon = 9.81 # l=1\n",
    "gamma = 0.0001 # a is small compared to l"
   ]
  },
  {
   "cell_type": "code",
   "execution_count": null,
   "id": "a4fe90a5",
   "metadata": {},
   "outputs": [],
   "source": [
    "solution_1 = integrate.solve_ivp(double_pendulum_system, [tStart,tEnd], [x1_0,x2_0,x3_0,x4_0], method = 'RK45', t_eval = np.linspace(tStart,tEnd,101), args = (delta,mu,epsilon,gamma))"
   ]
  },
  {
   "cell_type": "code",
   "execution_count": null,
   "id": "54507ba6",
   "metadata": {},
   "outputs": [],
   "source": [
    "plottrajectory = plt.axes(projection = '3d')\n",
    "plottrajectory.plot3D(solution_1.y[0],solution_1.y[2],solution_1.t, linewidth = 0.8)\n",
    "plt.savefig('DP Trajectory_1', dpi = 300)"
   ]
  },
  {
   "cell_type": "code",
   "execution_count": null,
   "id": "8970d95d",
   "metadata": {},
   "outputs": [],
   "source": [
    "plt.plot(solution_1.t, solution_1.y[0])\n",
    "plt.xlabel('time')\n",
    "plt.ylabel('x')\n",
    "plt.show()\n",
    "\n",
    "plt.plot(solution_1.t, solution_1.y[2])\n",
    "plt.xlabel('time')\n",
    "plt.ylabel('y')\n",
    "plt.show()"
   ]
  },
  {
   "cell_type": "code",
   "execution_count": null,
   "id": "2f1b3eaa",
   "metadata": {},
   "outputs": [],
   "source": [
    "plt.plot(solution_1.t, solution_1.y[0], c = 'red', label = 'theta_1')\n",
    "plt.plot(solution_1.t, solution_1.y[2], c = 'purple', label = 'theta_2')\n",
    "\n",
    "plt.legend()"
   ]
  },
  {
   "cell_type": "code",
   "execution_count": null,
   "id": "ac884a4d",
   "metadata": {},
   "outputs": [],
   "source": [
    "plt.plot(solution_1.y[0], solution_1.y[2])\n",
    "plt.xlabel('theta_1')\n",
    "plt.ylabel('theta_2')"
   ]
  },
  {
   "cell_type": "code",
   "execution_count": null,
   "id": "0d8ca014",
   "metadata": {},
   "outputs": [],
   "source": [
    "delta = 0 # b=0\n",
    "mu = 10 #frequency of the vibrating point is 100 times more than the previous one.\n",
    "epsilon = 9.81 # l=1\n",
    "gamma = 0.0001 # a is small compared to l"
   ]
  },
  {
   "cell_type": "code",
   "execution_count": null,
   "id": "8613ec02",
   "metadata": {},
   "outputs": [],
   "source": [
    "solution_2 = integrate.solve_ivp(double_pendulum_system, [tStart,tEnd], [x1_0,x2_0,x3_0,x4_0], method = 'RK45', t_eval = np.linspace(tStart,tEnd,101), args = (delta,mu,epsilon,gamma))"
   ]
  },
  {
   "cell_type": "code",
   "execution_count": null,
   "id": "4b584c44",
   "metadata": {},
   "outputs": [],
   "source": [
    "plottrajectory = plt.axes(projection = '3d')\n",
    "plottrajectory.plot3D(solution_2.y[0],solution_2.y[2],solution_2.t, linewidth = 0.8)\n",
    "plt.savefig('DP Trajectory_2', dpi = 300)"
   ]
  },
  {
   "cell_type": "code",
   "execution_count": null,
   "id": "bc1c83a9",
   "metadata": {},
   "outputs": [],
   "source": [
    "plt.plot(solution_2.t, solution_2.y[0])\n",
    "plt.xlabel('time')\n",
    "plt.ylabel('x')\n",
    "plt.show()\n",
    "\n",
    "plt.plot(solution_2.t, solution_2.y[2])\n",
    "plt.xlabel('time')\n",
    "plt.ylabel('y')\n",
    "plt.show()"
   ]
  },
  {
   "cell_type": "code",
   "execution_count": null,
   "id": "217e2a78",
   "metadata": {},
   "outputs": [],
   "source": [
    "plt.plot(solution_2.y[0], solution_2.y[2])\n",
    "plt.xlabel('theta_1')\n",
    "plt.ylabel('theta_2')"
   ]
  },
  {
   "cell_type": "code",
   "execution_count": null,
   "id": "69c45591",
   "metadata": {},
   "outputs": [],
   "source": [
    "plt.plot(solution_2.t, solution_2.y[0], c = 'red', label = 'theta_1')\n",
    "plt.plot(solution_2.t, solution_2.y[2], c = 'purple', label = 'theta_2')\n",
    "\n",
    "plt.legend()"
   ]
  },
  {
   "cell_type": "code",
   "execution_count": null,
   "id": "3ff3c66b",
   "metadata": {},
   "outputs": [],
   "source": [
    "delta = 0 # b=0\n",
    "mu = 1000 #frequency of the vibrating point is 100 times more than the previous one.\n",
    "epsilon = 9.81 # l=1\n",
    "gamma = 0.0001 # a is small compared to l"
   ]
  },
  {
   "cell_type": "code",
   "execution_count": null,
   "id": "8a9d2563",
   "metadata": {},
   "outputs": [],
   "source": [
    "solution_3 = integrate.solve_ivp(double_pendulum_system, [tStart,tEnd], [x1_0,x2_0,x3_0,x4_0], method = 'RK45', t_eval = np.linspace(tStart,tEnd,101), args = (delta,mu,epsilon,gamma))"
   ]
  },
  {
   "cell_type": "code",
   "execution_count": null,
   "id": "07605fa3",
   "metadata": {},
   "outputs": [],
   "source": [
    "plottrajectory = plt.axes(projection = '3d')\n",
    "plottrajectory.plot3D(solution_3.y[0],solution_3.y[2],solution_3.t, linewidth = 0.8)\n",
    "plt.savefig('DP Trajectory_3', dpi = 300)"
   ]
  },
  {
   "cell_type": "code",
   "execution_count": null,
   "id": "1de08463",
   "metadata": {},
   "outputs": [],
   "source": [
    "plt.plot(solution_3.t, solution_3.y[0])\n",
    "plt.xlabel('time')\n",
    "plt.ylabel('x')\n",
    "plt.show()\n",
    "\n",
    "plt.plot(solution_3.t, solution_3.y[2])\n",
    "plt.xlabel('time')\n",
    "plt.ylabel('y')\n",
    "plt.show()"
   ]
  },
  {
   "cell_type": "code",
   "execution_count": null,
   "id": "3b06069a",
   "metadata": {},
   "outputs": [],
   "source": [
    "plt.plot(solution_3.t, solution_3.y[0], c = 'red', label = 'theta_1')\n",
    "plt.plot(solution_3.t, solution_3.y[2], c = 'purple', label = 'theta_2')\n",
    "\n",
    "plt.legend()"
   ]
  },
  {
   "cell_type": "code",
   "execution_count": null,
   "id": "c9746e4d",
   "metadata": {},
   "outputs": [],
   "source": [
    "plt.plot(solution_3.y[0], solution_3.y[2])\n",
    "plt.xlabel('theta_1')\n",
    "plt.ylabel('theta_2')"
   ]
  },
  {
   "cell_type": "markdown",
   "id": "3b6c9829",
   "metadata": {},
   "source": [
    "We observe that the angles theta_1 and theta_2 are almost sinosoidal for almost every ranges of omega (of the suspension point) from 0.001 to 1000. We have considered m=1, l=1, a=0.01 and b=0. So all other parameters apart from mu are constants."
   ]
  },
  {
   "cell_type": "markdown",
   "id": "2e24c6aa",
   "metadata": {},
   "source": [
    "## Case2: When $\\theta_1$ and $\\theta_2$ are approx.  $\\pi$ radians"
   ]
  },
  {
   "cell_type": "code",
   "execution_count": null,
   "id": "2e72c977",
   "metadata": {},
   "outputs": [],
   "source": [
    "def inverted_double_pendulum_system(t,r, delta,mu, epsilon, gamma):\n",
    "    \"\"\"\n",
    "    x1 = theta_1\n",
    "    x2 = theta_1_dot\n",
    "    x3 = theta_2\n",
    "    x4 = theta_2_dot\n",
    "    delta = bT/m\n",
    "    mu = wT\n",
    "    epsilon = gT**2/l\n",
    "    gamma = a*w*T/l\n",
    "    T = 1\n",
    "    \n",
    "    delta,mu, epsilon and gamma are the parameters. They affects the dynamics of the system.\n",
    "    \"\"\"\n",
    "    x1 , x2, x3, x4 = r\n",
    "    \n",
    "    dx1 = x2\n",
    "    dx2 = -(x1-x3)*x4**2-(x1-x3)*x2**2 - delta*x2  - gamma*(-2+gamma)*(delta*np.cos(mu*t)-mu*np.sin(mu*t))\n",
    "    dx3 = x4\n",
    "    dx4 = 2*(x1-x3)*x2**2+(x1-x3)*x4**2 - delta*x4 - 2*gamma*(-1+gamma)*(delta*np.cos(mu*t)-mu*np.sin(mu*t))\n",
    "\n",
    "    return [dx1, dx2, dx3, dx4]"
   ]
  },
  {
   "cell_type": "code",
   "execution_count": null,
   "id": "53dc484c",
   "metadata": {},
   "outputs": [],
   "source": [
    "# def double_pendulum_system(t,r, mu, delta, epsilon, gamma):\n",
    "#     \"\"\"\n",
    "#     x1 = theta_1\n",
    "#     x2 = theta_1_dot\n",
    "#     x3 = theta_2\n",
    "#     x4 = theta_2_dot\n",
    "#     delta = bT/m\n",
    "#     mu = wT\n",
    "#     epsilon = gT**2/l\n",
    "#     gamma = a*w*T/l\n",
    "#     T = 1\n",
    "    \n",
    "#     delta,mu, epsilon and gamma are the parameters. They affects the dynamics of the system.\n",
    "#     \"\"\"\n",
    "#     x1 , x2, x3, x4 = r\n",
    "    \n",
    "#     dx1 = x2\n",
    "#     dx2 = -(x1-x3)*x4**2-(x1-x3)*x2**2 - delta*x2 - 2*epsilon*x1 + epsilon*x3 - gamma*(2-gamma)*(delta*np.cos(mu*t)-mu*np.sin(mu*t))\n",
    "#     dx3 = x4\n",
    "#     dx4 = 2*(x1-x3)*x2**2+(x1-x3)*x4**2 - delta*x4 - 2*epsilon*x3 + 2*epsilon*x1 - 2*gamma*(1-gamma)*(delta*np.cos(mu*t)-mu*np.sin(mu*t))\n",
    "\n",
    "#     return [dx1, dx2, dx3, dx4]"
   ]
  },
  {
   "cell_type": "code",
   "execution_count": null,
   "id": "7963ef12",
   "metadata": {},
   "outputs": [],
   "source": [
    "def double_pendulum_system_1(t,r, mu, delta, epsilon, gamma):\n",
    "    \"\"\"\n",
    "    x1 = theta_1\n",
    "    x2 = theta_1_dot\n",
    "    x3 = theta_2\n",
    "    x4 = theta_2_dot\n",
    "    delta = bT/m\n",
    "    mu = wT\n",
    "    epsilon = gT**2/l\n",
    "    gamma = a*w*T/l\n",
    "    T = 1\n",
    "    \n",
    "    delta,mu, epsilon and gamma are the parameters. They affects the dynamics of the system.\n",
    "    \"\"\"\n",
    "    x1 , x2, x3, x4 = r\n",
    "    \n",
    "    dx1 = x2\n",
    "    \n",
    "    dx2 = -np.sin(x1-x3)*x4**2/(2-np.cos(x1-x3)**2) - np.cos(x1-x3)*np.sin(x1-x3)*x2**2/(2-np.cos(x1-x3)**2) - delta*x2 - 2*epsilon*np.sin(x1)/(2-np.cos(x1-x3)**2) + epsilon*np.cos(x1-x3)*np.sin(x3)/(2-np.cos(x1-x3)**2) - gamma*(delta*np.cos(mu*t)-mu*np.sin(mu*t))*((2*np.cos(x1)-gamma*np.cos(x1-x3)*np.cos(x3))/(2-np.cos(x1-x3)**2)) \n",
    "            \n",
    "    dx3 = x4\n",
    "    \n",
    "    dx4 = 2*np.sin(x1-x3)*x2**2/(2-np.cos(x1-x3)**2) + np.cos(x1-x3)*np.sin(x1-x3)*x4**2/(2-np.cos(x1-x3)**2) - delta*x4 - 2*epsilon*np.sin(x3)/(2-np.cos(x1-x3)**2) + 2*epsilon*np.cos(x1-x3)*np.sin(x1)/(2-np.cos(x1-x3)**2) - 2*gamma*(delta*np.cos(mu*t)-mu*np.sin(mu*t))*((np.cos(x3)-gamma*np.cos(x1-x3)*np.cos(x1))/(2-np.cos(x1-x3)**2)) \n",
    "\n",
    "    return [dx1, dx2, dx3, dx4]"
   ]
  },
  {
   "cell_type": "code",
   "execution_count": null,
   "id": "dddee67e",
   "metadata": {},
   "outputs": [],
   "source": [
    "delta = 0 # b=0\n",
    "mu = 0.1 #frequency of the vibrating point is very less.\n",
    "epsilon = 9.81 # l=1\n",
    "gamma = 0.01 # a is small compared to l"
   ]
  },
  {
   "cell_type": "code",
   "execution_count": null,
   "id": "efdef3eb",
   "metadata": {},
   "outputs": [],
   "source": [
    "# Considering that initial angles are very small.\n",
    "x1_0 = 3.13\n",
    "x2_0 = 0\n",
    "x3_0 = 3.12\n",
    "x4_0 = 0\n",
    "\n",
    "tStart = 0\n",
    "tEnd = 50\n",
    "\n",
    "delta = 0 # b=0\n",
    "mu = 0.001 #frequency of the vibrating point is very less.\n",
    "epsilon = 9.81 # l=1\n",
    "gamma = 0.0001 # a is small compared to l"
   ]
  },
  {
   "cell_type": "code",
   "execution_count": null,
   "id": "e455c273",
   "metadata": {},
   "outputs": [],
   "source": [
    "solution = integrate.solve_ivp(double_pendulum_system_1, [tStart,tEnd], [x1_0,x2_0,x3_0,x4_0], method = 'RK45', t_eval = np.linspace(tStart,tEnd,101), args = (delta,mu,epsilon,gamma))"
   ]
  },
  {
   "cell_type": "code",
   "execution_count": null,
   "id": "f08a6d43",
   "metadata": {},
   "outputs": [],
   "source": [
    "plt.rcParams['figure.figsize'] = [40,15]\n",
    "plottrajectory = plt.axes(projection = '3d')\n",
    "plottrajectory.plot3D(solution.y[0],solution.y[2],solution.t, linewidth = 0.8)"
   ]
  },
  {
   "cell_type": "code",
   "execution_count": null,
   "id": "4bf6ab98",
   "metadata": {},
   "outputs": [],
   "source": [
    "plt.plot(solution.y[0], solution.y[2])\n",
    "plt.xlabel('theta_1')\n",
    "plt.ylabel('theta_2')"
   ]
  },
  {
   "cell_type": "code",
   "execution_count": null,
   "id": "f30a5e33",
   "metadata": {},
   "outputs": [],
   "source": [
    "plt.plot(solution.t, solution.y[0], c = 'red', label = 'theta_1')\n",
    "plt.plot(solution.t, solution.y[2], c = 'purple', label = 'theta_2')\n",
    "\n",
    "plt.legend()"
   ]
  },
  {
   "cell_type": "code",
   "execution_count": null,
   "id": "0b6fde5e",
   "metadata": {},
   "outputs": [],
   "source": [
    "delta = 0 # b=0\n",
    "mu = 0.1 #frequency of the vibrating point is very less.\n",
    "epsilon = 9.81 # l=1\n",
    "gamma = 0.01 # a is small compared to l"
   ]
  },
  {
   "cell_type": "code",
   "execution_count": null,
   "id": "f3ced08d",
   "metadata": {},
   "outputs": [],
   "source": [
    "solution = integrate.solve_ivp(double_pendulum_system_1, [tStart,tEnd], [x1_0,x2_0,x3_0,x4_0], method = 'RK45', t_eval = np.linspace(tStart,tEnd,101), args = (delta,mu,epsilon,gamma))"
   ]
  },
  {
   "cell_type": "code",
   "execution_count": null,
   "id": "afdb395b",
   "metadata": {},
   "outputs": [],
   "source": [
    "plt.rcParams['figure.figsize'] = [40,15]\n",
    "plottrajectory = plt.axes(projection = '3d')\n",
    "plottrajectory.plot3D(solution.y[0],solution.y[2],solution.t, linewidth = 0.8)"
   ]
  },
  {
   "cell_type": "code",
   "execution_count": null,
   "id": "ed8a5cd1",
   "metadata": {},
   "outputs": [],
   "source": [
    "plt.plot(solution.y[0], solution.y[2])\n",
    "plt.xlabel('theta_1')\n",
    "plt.ylabel('theta_2')"
   ]
  },
  {
   "cell_type": "code",
   "execution_count": null,
   "id": "868bd565",
   "metadata": {},
   "outputs": [],
   "source": [
    "plt.plot(solution.t, solution.y[0], c = 'red', label = 'theta_1')\n",
    "plt.plot(solution.t, solution.y[2], c = 'purple', label = 'theta_2')\n",
    "\n",
    "plt.legend()"
   ]
  },
  {
   "cell_type": "code",
   "execution_count": null,
   "id": "c2dddaf3",
   "metadata": {},
   "outputs": [],
   "source": [
    "delta = 0 # b=0\n",
    "mu = 1000 #frequency of the vibrating point is very less.\n",
    "epsilon = 9.81 # l=1\n",
    "gamma = 100 # a is small compared to l"
   ]
  },
  {
   "cell_type": "code",
   "execution_count": null,
   "id": "39e524be",
   "metadata": {},
   "outputs": [],
   "source": [
    "solution = integrate.solve_ivp(double_pendulum_system_1, [tStart,tEnd], [x1_0,x2_0,x3_0,x4_0], method = 'RK45', t_eval = np.linspace(tStart,tEnd,101), args = (delta,mu,epsilon,gamma))"
   ]
  },
  {
   "cell_type": "code",
   "execution_count": null,
   "id": "6309af76",
   "metadata": {},
   "outputs": [],
   "source": [
    "plt.rcParams['figure.figsize'] = [40,15]\n",
    "plottrajectory = plt.axes(projection = '3d')\n",
    "plottrajectory.plot3D(solution.y[0],solution.y[2],solution.t, linewidth = 0.8)"
   ]
  },
  {
   "cell_type": "code",
   "execution_count": null,
   "id": "b86a4a44",
   "metadata": {},
   "outputs": [],
   "source": [
    "plt.plot(solution.y[0], solution.y[2])\n",
    "plt.xlabel('theta_1')\n",
    "plt.ylabel('theta_2')"
   ]
  },
  {
   "cell_type": "code",
   "execution_count": null,
   "id": "35e90ef7",
   "metadata": {},
   "outputs": [],
   "source": [
    "plt.plot(solution.t, solution.y[0], c = 'red', label = 'theta_1')\n",
    "plt.plot(solution.t, solution.y[2], c = 'purple', label = 'theta_2')\n",
    "\n",
    "plt.legend()"
   ]
  },
  {
   "cell_type": "markdown",
   "id": "55d4715e",
   "metadata": {},
   "source": [
    "## Case3: When only $\\theta_1$ is approx. $\\pi$ radians "
   ]
  },
  {
   "cell_type": "code",
   "execution_count": null,
   "id": "d5394969",
   "metadata": {},
   "outputs": [],
   "source": [
    "\n",
    "x1_0 = 3.13\n",
    "x2_0 = 0\n",
    "x3_0 = 1.45\n",
    "x4_0 = 0\n",
    "\n",
    "tStart = 0\n",
    "tEnd = 50\n",
    "\n",
    "delta = 0 # b=0\n",
    "mu = 0.001 #frequency of the vibrating point is very less.\n",
    "epsilon = 9.81 # l=1\n",
    "gamma = 0.0001 # a is small compared to l"
   ]
  },
  {
   "cell_type": "code",
   "execution_count": null,
   "id": "5708b9ef",
   "metadata": {},
   "outputs": [],
   "source": [
    "solution = integrate.solve_ivp(double_pendulum_system_1, [tStart,tEnd], [x1_0,x2_0,x3_0,x4_0], method = 'RK45', t_eval = np.linspace(tStart,tEnd,101), args = (delta,mu,epsilon,gamma))"
   ]
  },
  {
   "cell_type": "code",
   "execution_count": null,
   "id": "2d778eb3",
   "metadata": {},
   "outputs": [],
   "source": [
    "plt.rcParams['figure.figsize'] = [40,15]\n",
    "plottrajectory = plt.axes(projection = '3d')\n",
    "plottrajectory.plot3D(solution.y[0],solution.y[2],solution.t, linewidth = 0.8)"
   ]
  },
  {
   "cell_type": "code",
   "execution_count": null,
   "id": "2488f650",
   "metadata": {},
   "outputs": [],
   "source": [
    "plt.plot(solution.y[0], solution.y[2])\n",
    "plt.xlabel('theta_1')\n",
    "plt.ylabel('theta_2')"
   ]
  },
  {
   "cell_type": "code",
   "execution_count": null,
   "id": "537b1c2c",
   "metadata": {},
   "outputs": [],
   "source": [
    "plt.plot(solution.t, solution.y[0], c = 'red', label = 'theta_1')\n",
    "plt.plot(solution.t, solution.y[2], c = 'purple', label = 'theta_2')\n",
    "\n",
    "plt.legend()"
   ]
  },
  {
   "cell_type": "code",
   "execution_count": null,
   "id": "f675f82b",
   "metadata": {},
   "outputs": [],
   "source": [
    "delta = 0 # b=0\n",
    "mu = 0.1 #frequency of the vibrating point is very less.\n",
    "epsilon = 9.81 # l=1\n",
    "gamma = 0.01 # a is small compared to l"
   ]
  },
  {
   "cell_type": "code",
   "execution_count": null,
   "id": "74289408",
   "metadata": {},
   "outputs": [],
   "source": [
    "solution = integrate.solve_ivp(double_pendulum_system_1, [tStart,tEnd], [x1_0,x2_0,x3_0,x4_0], method = 'RK45', t_eval = np.linspace(tStart,tEnd,101), args = (delta,mu,epsilon,gamma))"
   ]
  },
  {
   "cell_type": "code",
   "execution_count": null,
   "id": "39e60ad5",
   "metadata": {},
   "outputs": [],
   "source": [
    "plt.rcParams['figure.figsize'] = [40,15]\n",
    "plottrajectory = plt.axes(projection = '3d')\n",
    "plottrajectory.plot3D(solution.y[0],solution.y[2],solution.t, linewidth = 0.8)"
   ]
  },
  {
   "cell_type": "code",
   "execution_count": null,
   "id": "65a8c6b3",
   "metadata": {},
   "outputs": [],
   "source": [
    "plt.plot(solution.y[0], solution.y[2])\n",
    "plt.xlabel('theta_1')\n",
    "plt.ylabel('theta_2')"
   ]
  },
  {
   "cell_type": "code",
   "execution_count": null,
   "id": "8a84bf75",
   "metadata": {},
   "outputs": [],
   "source": [
    "plt.plot(solution.t, solution.y[0], c = 'red', label = 'theta_1')\n",
    "plt.plot(solution.t, solution.y[2], c = 'purple', label = 'theta_2')\n",
    "\n",
    "plt.legend()"
   ]
  },
  {
   "cell_type": "code",
   "execution_count": null,
   "id": "ca53bfb2",
   "metadata": {},
   "outputs": [],
   "source": [
    "delta = 0 # b=0\n",
    "mu = 1000 #frequency of the vibrating point is very less.\n",
    "epsilon = 9.81 # l=1\n",
    "gamma = 100 # a is small compared to l"
   ]
  },
  {
   "cell_type": "code",
   "execution_count": null,
   "id": "ef0c405f",
   "metadata": {},
   "outputs": [],
   "source": [
    "solution = integrate.solve_ivp(double_pendulum_system_1, [tStart,tEnd], [x1_0,x2_0,x3_0,x4_0], method = 'RK45', t_eval = np.linspace(tStart,tEnd,101), args = (delta,mu,epsilon,gamma))"
   ]
  },
  {
   "cell_type": "code",
   "execution_count": null,
   "id": "2ce78c55",
   "metadata": {},
   "outputs": [],
   "source": [
    "plt.rcParams['figure.figsize'] = [40,15]\n",
    "plottrajectory = plt.axes(projection = '3d')\n",
    "plottrajectory.plot3D(solution.y[0],solution.y[2],solution.t, linewidth = 0.8)"
   ]
  },
  {
   "cell_type": "code",
   "execution_count": null,
   "id": "74b526c8",
   "metadata": {},
   "outputs": [],
   "source": [
    "plt.plot(solution.y[0], solution.y[2])\n",
    "plt.xlabel('theta_1')\n",
    "plt.ylabel('theta_2')"
   ]
  },
  {
   "cell_type": "code",
   "execution_count": null,
   "id": "086c94c2",
   "metadata": {},
   "outputs": [],
   "source": [
    "plt.plot(solution.t, solution.y[0], c = 'red', label = 'theta_1')\n",
    "plt.plot(solution.t, solution.y[2], c = 'purple', label = 'theta_2')\n",
    "\n",
    "plt.legend()"
   ]
  },
  {
   "cell_type": "markdown",
   "id": "ab8593dd",
   "metadata": {},
   "source": [
    "## Bifurcation Analysis"
   ]
  },
  {
   "cell_type": "code",
   "execution_count": null,
   "id": "c731c982",
   "metadata": {},
   "outputs": [],
   "source": [
    "def double_pendulum_system_1(t,r, mu, delta, epsilon, gamma):\n",
    "    \"\"\"\n",
    "    x1 = theta_1\n",
    "    x2 = theta_1_dot\n",
    "    x3 = theta_2\n",
    "    x4 = theta_2_dot\n",
    "    delta = bT/m\n",
    "    mu = wT\n",
    "    epsilon = gT**2/l\n",
    "    gamma = a*w*T/l\n",
    "    T = 1\n",
    "    \n",
    "    delta,mu, epsilon and gamma are the parameters. They affects the dynamics of the system.\n",
    "    \"\"\"\n",
    "    x1 , x2, x3, x4 = r\n",
    "    \n",
    "    dx1 = x2\n",
    "    \n",
    "    dx2 = -np.sin(x1-x3)*x4**2/(2-np.cos(x1-x3)**2) - np.cos(x1-x3)*np.sin(x1-x3)*x2**2/(2-np.cos(x1-x3)**2) - delta*x2 - 2*epsilon*np.sin(x1)/(2-np.cos(x1-x3)**2) + epsilon*np.cos(x1-x3)*np.sin(x3)/(2-np.cos(x1-x3)**2) - gamma*(delta*np.cos(mu*t)-mu*np.sin(mu*t))*((2*np.cos(x1)-gamma*np.cos(x1-x3)*np.cos(x3))/(2-np.cos(x1-x3)**2)) \n",
    "            \n",
    "    dx3 = x4\n",
    "    \n",
    "    dx4 = 2*np.sin(x1-x3)*x2**2/(2-np.cos(x1-x3)**2) + np.cos(x1-x3)*np.sin(x1-x3)*x4**2/(2-np.cos(x1-x3)**2) - delta*x4 - 2*epsilon*np.sin(x3)/(2-np.cos(x1-x3)**2) + 2*epsilon*np.cos(x1-x3)*np.sin(x1)/(2-np.cos(x1-x3)**2) - 2*gamma*(delta*np.cos(mu*t)-mu*np.sin(mu*t))*((np.cos(x3)-gamma*np.cos(x1-x3)*np.cos(x1))/(2-np.cos(x1-x3)**2)) \n",
    "\n",
    "    return [dx1, dx2, dx3, dx4]"
   ]
  },
  {
   "cell_type": "code",
   "execution_count": null,
   "id": "2152dd24",
   "metadata": {},
   "outputs": [],
   "source": [
    "mu_range = np.linspace(1,25,100)\n",
    "x1_values = []  \n",
    "x2_values = []  \n",
    "x3_values = []  \n",
    "x4_values = []  "
   ]
  },
  {
   "cell_type": "code",
   "execution_count": null,
   "id": "057408f2",
   "metadata": {},
   "outputs": [],
   "source": [
    "for mu in mu_range:\n",
    "    # Initial conditions\n",
    "    x1_0 = 2.12 \n",
    "    x2_0 = 0  \n",
    "    x3_0 = 1.26       \n",
    "    x4_0 = 0 \n",
    "    \n",
    "    delta = 0 # b=0\n",
    "    epsilon = 9.81 # l=1\n",
    "    gamma = 0.0001 # a is small compared to l\n",
    "\n",
    "    # Time range for the simulation\n",
    "    tStart = 0.0\n",
    "    tEnd = 50.0\n",
    "\n",
    "    # Solve the system for the current frequency\n",
    "    solution = solve_ivp(double_pendulum_system_1, [tStart, tEnd], [x1_0, x2_0, x3_0, x4_0],\n",
    "                         method='RK45', t_eval=np.linspace(tStart, tEnd, 1000), args = (mu,delta,epsilon,gamma))\n",
    "\n",
    "    # Extract the results for theta1, omega1, theta2, and omega2\n",
    "    x1_values.append(solution.y[0])\n",
    "    x2_values.append(solution.y[1])\n",
    "    x3_values.append(solution.y[2])\n",
    "    x4_values.append(solution.y[3])"
   ]
  },
  {
   "cell_type": "code",
   "execution_count": null,
   "id": "abf164bb",
   "metadata": {},
   "outputs": [],
   "source": [
    "# Plot the bifurcation plot for theta1 vs omega\n",
    "plt.figure(figsize=(15, 15))\n",
    "plt.plot(mu_range,x1_values, '.', markersize=1, label = 'Theta_1 vs w')\n",
    "plt.xlabel('Suspension Point Frequency')\n",
    "plt.ylabel('Theta1 (angle of the first pendulum)')\n",
    "plt.grid(True)\n",
    "plt.legend()\n",
    "plt.show()\n",
    "\n",
    "# Plot the bifurcation plot for theta2 vs omega\n",
    "plt.figure(figsize=(15, 15))\n",
    "plt.plot(mu_range, x3_values, '.', markersize=1, label = 'Theta_2 vs w')\n",
    "plt.xlabel('Suspension Point Frequency')\n",
    "plt.ylabel('Theta2 (angle of the second pendulum)')\n",
    "plt.grid(True)\n",
    "plt.legend()\n",
    "plt.show()"
   ]
  },
  {
   "cell_type": "code",
   "execution_count": null,
   "id": "eac45461",
   "metadata": {},
   "outputs": [],
   "source": [
    "mu_range = np.linspace(0.01,1,100)\n",
    "x1_values = []  \n",
    "x2_values = []  \n",
    "x3_values = []  \n",
    "x4_values = []  "
   ]
  },
  {
   "cell_type": "code",
   "execution_count": null,
   "id": "335fc57a",
   "metadata": {},
   "outputs": [],
   "source": [
    "for mu in mu_range:\n",
    "    # Initial conditions\n",
    "    x1_0 = 2.12 \n",
    "    x2_0 = 0  \n",
    "    x3_0 = 1.26       \n",
    "    x4_0 = 0 \n",
    "    \n",
    "    delta = 0 # b=0\n",
    "    epsilon = 9.81 # l=1\n",
    "    gamma = 0.0001 # a is small compared to l\n",
    "\n",
    "    # Time range for the simulation\n",
    "    tStart = 0.0\n",
    "    tEnd = 50.0\n",
    "\n",
    "    # Solve the system for the current frequency\n",
    "    solution = solve_ivp(double_pendulum_system_1, [tStart, tEnd], [x1_0, x2_0, x3_0, x4_0],\n",
    "                         method='RK45', t_eval=np.linspace(tStart, tEnd, 1000), args = (mu,delta,epsilon,gamma))\n",
    "\n",
    "    # Extract the results for theta1, omega1, theta2, and omega2\n",
    "    x1_values.append(solution.y[0])\n",
    "    x2_values.append(solution.y[1])\n",
    "    x3_values.append(solution.y[2])\n",
    "    x4_values.append(solution.y[3])"
   ]
  },
  {
   "cell_type": "code",
   "execution_count": null,
   "id": "bae5c1e9",
   "metadata": {},
   "outputs": [],
   "source": [
    "# Plot the bifurcation plot for theta1 vs omega\n",
    "plt.figure(figsize=(15, 15))\n",
    "plt.plot(mu_range,x1_values, '.', markersize=1, label = 'Theta_1 vs w')\n",
    "plt.xlabel('Suspension Point Frequency')\n",
    "plt.ylabel('Theta1 (angle of the first pendulum)')\n",
    "plt.grid(True)\n",
    "plt.legend()\n",
    "plt.show()\n",
    "\n",
    "# Plot the bifurcation plot for theta2 vs omega\n",
    "plt.figure(figsize=(15, 15))\n",
    "plt.plot(mu_range, x3_values, '.', markersize=1, label = 'Theta_2 vs w')\n",
    "plt.xlabel('Suspension Point Frequency')\n",
    "plt.ylabel('Theta2 (angle of the second pendulum)')\n",
    "plt.grid(True)\n",
    "plt.legend()\n",
    "plt.show()"
   ]
  },
  {
   "cell_type": "code",
   "execution_count": null,
   "id": "a619f671",
   "metadata": {},
   "outputs": [],
   "source": [
    "plt.rcParams['figure.figsize'] = [15,15]\n",
    "plt.plot(solution.y[0], solution.y[2])"
   ]
  },
  {
   "cell_type": "code",
   "execution_count": null,
   "id": "ac22a1d1",
   "metadata": {},
   "outputs": [],
   "source": [
    "plottrajectory = plt.axes(projection = '3d')\n",
    "plottrajectory.plot3D(solution.y[0],solution.y[2],solution.t, linewidth = 0.8)"
   ]
  },
  {
   "cell_type": "code",
   "execution_count": null,
   "id": "7d7e08dd",
   "metadata": {},
   "outputs": [],
   "source": [
    "mu_range = np.linspace(1,100,100)\n",
    "x1_values = []  \n",
    "x2_values = []  \n",
    "x3_values = []  \n",
    "x4_values = []  "
   ]
  },
  {
   "cell_type": "code",
   "execution_count": null,
   "id": "20b803ec",
   "metadata": {},
   "outputs": [],
   "source": [
    "for mu in mu_range:\n",
    "    # Initial conditions\n",
    "    x1_0 = 2.12 \n",
    "    x2_0 = 0  \n",
    "    x3_0 = 1.26       \n",
    "    x4_0 = 0 \n",
    "    \n",
    "    delta = 0 # b=0\n",
    "    epsilon = 9.81 # l=1\n",
    "    gamma = 0.0001 # a is small compared to l\n",
    "\n",
    "    # Time range for the simulation\n",
    "    tStart = 0.0\n",
    "    tEnd = 50.0\n",
    "\n",
    "    # Solve the system for the current frequency\n",
    "    solution = solve_ivp(double_pendulum_system_1, [tStart, tEnd], [x1_0, x2_0, x3_0, x4_0],\n",
    "                         method='RK45', t_eval=np.linspace(tStart, tEnd, 1000), args = (mu,delta,epsilon,gamma))\n",
    "\n",
    "    # Extract the results for theta1, omega1, theta2, and omega2\n",
    "    x1_values.append(solution.y[0])\n",
    "    x2_values.append(solution.y[1])\n",
    "    x3_values.append(solution.y[2])\n",
    "    x4_values.append(solution.y[3])"
   ]
  },
  {
   "cell_type": "code",
   "execution_count": null,
   "id": "f7cb355a",
   "metadata": {},
   "outputs": [],
   "source": [
    "# Plot the bifurcation plot for theta1 vs omega\n",
    "plt.figure(figsize=(15, 15))\n",
    "plt.plot(mu_range,x1_values, '.', markersize=1, label = 'Theta_1 vs w')\n",
    "plt.xlabel('Suspension Point Frequency')\n",
    "plt.ylabel('Theta1 (angle of the first pendulum)')\n",
    "plt.grid(True)\n",
    "plt.legend()\n",
    "plt.show()\n",
    "\n",
    "# Plot the bifurcation plot for theta2 vs omega\n",
    "plt.figure(figsize=(15, 15))\n",
    "plt.plot(mu_range, x3_values, '.', markersize=1, label = 'Theta_2 vs w')\n",
    "plt.xlabel('Suspension Point Frequency')\n",
    "plt.ylabel('Theta2 (angle of the second pendulum)')\n",
    "plt.grid(True)\n",
    "plt.legend()\n",
    "plt.show()"
   ]
  },
  {
   "cell_type": "code",
   "execution_count": null,
   "id": "5c639cc9",
   "metadata": {},
   "outputs": [],
   "source": [
    "plt.rcParams['figure.figsize'] = [15,15]\n",
    "plt.plot(solution.y[0], solution.y[2])"
   ]
  },
  {
   "cell_type": "code",
   "execution_count": null,
   "id": "71a5787b",
   "metadata": {},
   "outputs": [],
   "source": [
    "plottrajectory = plt.axes(projection = '3d')\n",
    "plottrajectory.plot3D(solution.y[0],solution.y[2],solution.t, linewidth = 0.8)"
   ]
  },
  {
   "cell_type": "code",
   "execution_count": null,
   "id": "41f76ed4",
   "metadata": {},
   "outputs": [],
   "source": [
    "mu_range = np.linspace(100,1000,100)\n",
    "x1_values = []  \n",
    "x2_values = []  \n",
    "x3_values = []  \n",
    "x4_values = []  "
   ]
  },
  {
   "cell_type": "code",
   "execution_count": null,
   "id": "22c11bae",
   "metadata": {},
   "outputs": [],
   "source": [
    "for mu in mu_range:\n",
    "    # Initial conditions\n",
    "    x1_0 = 2.12 \n",
    "    x2_0 = 0  \n",
    "    x3_0 = 1.26       \n",
    "    x4_0 = 0 \n",
    "    \n",
    "    delta = 0 # b=0\n",
    "    epsilon = 9.81 # l=1\n",
    "    gamma = 0.0001 # a is small compared to l\n",
    "\n",
    "    # Time range for the simulation\n",
    "    tStart = 0.0\n",
    "    tEnd = 50.0\n",
    "\n",
    "    # Solve the system for the current frequency\n",
    "    solution = solve_ivp(double_pendulum_system_1, [tStart, tEnd], [x1_0, x2_0, x3_0, x4_0],\n",
    "                         method='RK45', t_eval=np.linspace(tStart, tEnd, 1000), args = (mu,delta,epsilon,gamma))\n",
    "\n",
    "    # Extract the results for theta1, omega1, theta2, and omega2\n",
    "    x1_values.append(solution.y[0])\n",
    "    x2_values.append(solution.y[1])\n",
    "    x3_values.append(solution.y[2])\n",
    "    x4_values.append(solution.y[3])"
   ]
  },
  {
   "cell_type": "code",
   "execution_count": null,
   "id": "8bd16432",
   "metadata": {},
   "outputs": [],
   "source": [
    "# Plot the bifurcation plot for theta1 vs omega\n",
    "plt.figure(figsize=(15, 15))\n",
    "plt.plot(mu_range,x1_values, '.', markersize=1, label = 'Theta_1 vs w')\n",
    "plt.xlabel('Suspension Point Frequency')\n",
    "plt.ylabel('Theta1 (angle of the first pendulum)')\n",
    "plt.grid(True)\n",
    "plt.legend()\n",
    "plt.show()\n",
    "\n",
    "# Plot the bifurcation plot for theta2 vs omega\n",
    "plt.figure(figsize=(15, 15))\n",
    "plt.plot(mu_range, x3_values, '.', markersize=1, label = 'Theta_2 vs w')\n",
    "plt.xlabel('Suspension Point Frequency')\n",
    "plt.ylabel('Theta2 (angle of the second pendulum)')\n",
    "plt.grid(True)\n",
    "plt.legend()\n",
    "plt.show()"
   ]
  },
  {
   "cell_type": "code",
   "execution_count": null,
   "id": "ade12cd6",
   "metadata": {},
   "outputs": [],
   "source": [
    "plt.rcParams['figure.figsize'] = [15,15]\n",
    "plt.plot(solution.y[0], solution.y[2])"
   ]
  },
  {
   "cell_type": "code",
   "execution_count": null,
   "id": "18ca22c3",
   "metadata": {},
   "outputs": [],
   "source": [
    "plottrajectory = plt.axes(projection = '3d')\n",
    "plottrajectory.plot3D(solution.y[0],solution.y[2],solution.t, linewidth = 0.8)"
   ]
  },
  {
   "cell_type": "code",
   "execution_count": null,
   "id": "7050fc1b",
   "metadata": {},
   "outputs": [],
   "source": [
    "delta_range = np.linspace(0,10,100)\n",
    "x1_values = []  \n",
    "x2_values = []  \n",
    "x3_values = []  \n",
    "x4_values = []  "
   ]
  },
  {
   "cell_type": "code",
   "execution_count": null,
   "id": "d8ae73ff",
   "metadata": {},
   "outputs": [],
   "source": [
    "for de in delta_range:\n",
    "    # Initial conditions\n",
    "    x1_0 = 2.12 \n",
    "    x2_0 = 0  \n",
    "    x3_0 = 1.26       \n",
    "    x4_0 = 0 \n",
    "    \n",
    "    mu = 0.1 \n",
    "    epsilon = 9.81 # l=1\n",
    "    gamma = 0.0001 # a is small compared to l\n",
    "\n",
    "    # Time range for the simulation\n",
    "    tStart = 0.0\n",
    "    tEnd = 50.0\n",
    "\n",
    "    # Solve the system for the current frequency\n",
    "    solution = solve_ivp(double_pendulum_system_1, [tStart, tEnd], [x1_0, x2_0, x3_0, x4_0],\n",
    "                         method='RK45', t_eval=np.linspace(tStart, tEnd, 1000), args = (mu,delta,epsilon,gamma))\n",
    "\n",
    "    # Extract the results for theta1, omega1, theta2, and omega2\n",
    "    x1_values.append(solution.y[0])\n",
    "    x2_values.append(solution.y[1])\n",
    "    x3_values.append(solution.y[2])\n",
    "    x4_values.append(solution.y[3])"
   ]
  },
  {
   "cell_type": "code",
   "execution_count": null,
   "id": "b16353df",
   "metadata": {},
   "outputs": [],
   "source": [
    "# Plot the bifurcation plot for theta1 vs delta\n",
    "plt.figure(figsize=(15, 15))\n",
    "plt.plot(delta_range,x1_values, '.', markersize=1, label = 'Theta_1 vs delta')\n",
    "plt.xlabel('delta')\n",
    "plt.ylabel('Theta1 (angle of the first pendulum)')\n",
    "plt.grid(True)\n",
    "plt.legend()\n",
    "plt.show()\n",
    "\n",
    "# Plot the bifurcation plot for theta2 vs delta\n",
    "plt.figure(figsize=(15, 15))\n",
    "plt.plot(delta_range, x3_values, '.', markersize=1, label = 'Theta_2 vs delta')\n",
    "plt.xlabel('delta')\n",
    "plt.ylabel('Theta2 (angle of the second pendulum)')\n",
    "plt.grid(True)\n",
    "plt.legend()\n",
    "plt.show()"
   ]
  },
  {
   "cell_type": "code",
   "execution_count": null,
   "id": "59230720",
   "metadata": {},
   "outputs": [],
   "source": [
    "plt.rcParams['figure.figsize'] = [15,15]\n",
    "plt.plot(solution.y[0], solution.y[2])"
   ]
  },
  {
   "cell_type": "code",
   "execution_count": null,
   "id": "4793b95c",
   "metadata": {},
   "outputs": [],
   "source": [
    "plottrajectory = plt.axes(projection = '3d')\n",
    "plottrajectory.plot3D(solution.y[0],solution.y[2],solution.t, linewidth = 0.8)"
   ]
  },
  {
   "cell_type": "markdown",
   "id": "3f19f4ec",
   "metadata": {},
   "source": [
    "## Bifurcation analysis when initial angles were very small"
   ]
  },
  {
   "cell_type": "code",
   "execution_count": null,
   "id": "c6171744",
   "metadata": {},
   "outputs": [],
   "source": [
    "mu_range = np.linspace(0.01,1,100) \n",
    "\n",
    "x1_values = []  \n",
    "x2_values = []  \n",
    "x3_values = []  \n",
    "x4_values = []  "
   ]
  },
  {
   "cell_type": "code",
   "execution_count": null,
   "id": "2796914a",
   "metadata": {},
   "outputs": [],
   "source": [
    "# Iterate through each frequency in the frequency range\n",
    "for mu in mu_range:\n",
    "    # Initial conditions\n",
    "    x1_0 = 0.01 \n",
    "    x2_0 = 0  \n",
    "    x3_0 = 0.03       \n",
    "    x4_0 = 0 \n",
    "    \n",
    "    delta = 0 # b=0\n",
    "    epsilon = 9.81 # l=1\n",
    "    gamma = 0.0001 # a is small compared to l\n",
    "\n",
    "    # Time range for the simulation\n",
    "    tStart = 0.0\n",
    "    tEnd = 50.0\n",
    "\n",
    "    # Solve the system for the current frequency\n",
    "    solution = solve_ivp(double_pendulum_system, [tStart, tEnd], [x1_0, x2_0, x3_0, x4_0],\n",
    "                         method='RK45', t_eval=np.linspace(tStart, tEnd, 1000), args = (mu,delta,epsilon,gamma))\n",
    "\n",
    "    # Extract the results for theta1, omega1, theta2, and omega2\n",
    "    x1_values.append(solution.y[0])\n",
    "    x2_values.append(solution.y[1])\n",
    "    x3_values.append(solution.y[2])\n",
    "    x4_values.append(solution.y[3])"
   ]
  },
  {
   "cell_type": "code",
   "execution_count": null,
   "id": "0b88b735",
   "metadata": {},
   "outputs": [],
   "source": [
    "# Plot the bifurcation plot for theta1 vs omega\n",
    "plt.figure(figsize=(15, 15))\n",
    "plt.plot(mu_range,x1_values, '.', markersize=1, label = 'Theta_1 vs w')\n",
    "plt.xlabel('Suspension Point Frequency')\n",
    "plt.ylabel('Theta1 (angle of the first pendulum)')\n",
    "plt.grid(True)\n",
    "plt.legend()\n",
    "plt.show()\n",
    "\n",
    "# Plot the bifurcation plot for theta2 vs omega\n",
    "plt.figure(figsize=(15, 15))\n",
    "plt.plot(mu_range, x3_values, '.', markersize=1, label = 'Theta_2 vs w')\n",
    "plt.xlabel('Suspension Point Frequency')\n",
    "plt.ylabel('Theta2 (angle of the second pendulum)')\n",
    "plt.grid(True)\n",
    "plt.legend()\n",
    "plt.show()"
   ]
  },
  {
   "cell_type": "code",
   "execution_count": null,
   "id": "2ffb053d",
   "metadata": {},
   "outputs": [],
   "source": [
    "plt.rcParams['figure.figsize'] = [15,15]\n",
    "plt.plot(solution.y[0], solution.y[2])"
   ]
  },
  {
   "cell_type": "code",
   "execution_count": null,
   "id": "7167b78e",
   "metadata": {},
   "outputs": [],
   "source": [
    "plottrajectory = plt.axes(projection = '3d')\n",
    "plottrajectory.plot3D(solution.y[0],solution.y[2],solution.t, linewidth = 0.8)"
   ]
  },
  {
   "cell_type": "code",
   "execution_count": null,
   "id": "3b762010",
   "metadata": {},
   "outputs": [],
   "source": [
    "mu_range = np.linspace(1,100,100)"
   ]
  },
  {
   "cell_type": "code",
   "execution_count": null,
   "id": "8584aee4",
   "metadata": {},
   "outputs": [],
   "source": [
    "x1_values = []  \n",
    "x2_values = []  \n",
    "x3_values = []  \n",
    "x4_values = []  "
   ]
  },
  {
   "cell_type": "code",
   "execution_count": null,
   "id": "f7fae174",
   "metadata": {},
   "outputs": [],
   "source": [
    "# Iterate through each frequency in the frequency range\n",
    "for mu in mu_range:\n",
    "    # Initial conditions\n",
    "    x1_0 = 0.01 \n",
    "    x2_0 = 0  \n",
    "    x3_0 = 0.03       \n",
    "    x4_0 = 0 \n",
    "    \n",
    "    delta = 0 # b=0\n",
    "    epsilon = 9.81 # l=1\n",
    "    gamma = 0.0001 # a is small compared to l\n",
    "\n",
    "    # Time range for the simulation\n",
    "    tStart = 0.0\n",
    "    tEnd = 50.0\n",
    "\n",
    "    # Solve the system for the current frequency\n",
    "    solution = solve_ivp(double_pendulum_system, [tStart, tEnd], [x1_0, x2_0, x3_0, x4_0],\n",
    "                         method='RK45', t_eval=np.linspace(tStart, tEnd, 1000), args = (mu,delta,epsilon,gamma))\n",
    "\n",
    "    # Extract the results for theta1, omega1, theta2, and omega2\n",
    "    x1_values.append(solution.y[0])\n",
    "    x2_values.append(solution.y[1])\n",
    "    x3_values.append(solution.y[2])\n",
    "    x4_values.append(solution.y[3])"
   ]
  },
  {
   "cell_type": "code",
   "execution_count": null,
   "id": "3bc1e951",
   "metadata": {},
   "outputs": [],
   "source": [
    "# Plot the bifurcation plot for theta1 vs omega\n",
    "plt.figure(figsize=(15, 15))\n",
    "plt.plot(mu_range,x1_values, '.', markersize=1, label = 'Theta_1 vs w')\n",
    "plt.xlabel('Suspension Point Frequency')\n",
    "plt.ylabel('Theta1 (angle of the first pendulum)')\n",
    "plt.grid(True)\n",
    "plt.legend()\n",
    "plt.show()\n",
    "\n",
    "# Plot the bifurcation plot for theta2 vs omega\n",
    "plt.figure(figsize=(15, 15))\n",
    "plt.plot(mu_range, x3_values, '.', markersize=1, label = 'Theta_2 vs w')\n",
    "plt.xlabel('Suspension Point Frequency')\n",
    "plt.ylabel('Theta2 (angle of the second pendulum)')\n",
    "plt.grid(True)\n",
    "plt.legend()\n",
    "plt.show()"
   ]
  },
  {
   "cell_type": "code",
   "execution_count": null,
   "id": "b33abc94",
   "metadata": {},
   "outputs": [],
   "source": [
    "plt.rcParams['figure.figsize'] = [15,15]\n",
    "plt.plot(solution.y[0], solution.y[2])"
   ]
  },
  {
   "cell_type": "code",
   "execution_count": null,
   "id": "715482ef",
   "metadata": {},
   "outputs": [],
   "source": [
    "plottrajectory = plt.axes(projection = '3d')\n",
    "plottrajectory.plot3D(solution.y[0],solution.y[2],solution.t, linewidth = 0.8)"
   ]
  },
  {
   "cell_type": "markdown",
   "id": "293b663f",
   "metadata": {},
   "source": [
    "## Animation of the chaotic system"
   ]
  },
  {
   "cell_type": "code",
   "execution_count": null,
   "id": "0f207976",
   "metadata": {},
   "outputs": [],
   "source": [
    "from mpl_toolkits.mplot3d import Axes3D\n",
    "from matplotlib.animation import FuncAnimation\n",
    "\n",
    "def double_pendulum_system_1(t,r, mu, delta, epsilon, gamma):\n",
    "    \"\"\"\n",
    "    x1 = theta_1\n",
    "    x2 = theta_1_dot\n",
    "    x3 = theta_2\n",
    "    x4 = theta_2_dot\n",
    "    delta = bT/m\n",
    "    mu = wT\n",
    "    epsilon = gT**2/l\n",
    "    gamma = a*w*T/l\n",
    "    T = 1\n",
    "    \n",
    "    delta,mu, epsilon and gamma are the parameters. They affects the dynamics of the system.\n",
    "    \"\"\"\n",
    "    x1 , x2, x3, x4 = r\n",
    "    \n",
    "    dx1 = x2\n",
    "    \n",
    "    dx2 = -np.sin(x1-x3)*x4**2/(2-np.cos(x1-x3)**2) - np.cos(x1-x3)*np.sin(x1-x3)*x2**2/(2-np.cos(x1-x3)**2) - delta*x2 - 2*epsilon*np.sin(x1)/(2-np.cos(x1-x3)**2) + epsilon*np.cos(x1-x3)*np.sin(x3)/(2-np.cos(x1-x3)**2) - gamma*(delta*np.cos(mu*t)-mu*np.sin(mu*t))*((2*np.cos(x1)-gamma*np.cos(x1-x3)*np.cos(x3))/(2-np.cos(x1-x3)**2)) \n",
    "            \n",
    "    dx3 = x4\n",
    "    \n",
    "    dx4 = 2*np.sin(x1-x3)*x2**2/(2-np.cos(x1-x3)**2) + np.cos(x1-x3)*np.sin(x1-x3)*x4**2/(2-np.cos(x1-x3)**2) - delta*x4 - 2*epsilon*np.sin(x3)/(2-np.cos(x1-x3)**2) + 2*epsilon*np.cos(x1-x3)*np.sin(x1)/(2-np.cos(x1-x3)**2) - 2*gamma*(delta*np.cos(mu*t)-mu*np.sin(mu*t))*((np.cos(x3)-gamma*np.cos(x1-x3)*np.cos(x1))/(2-np.cos(x1-x3)**2)) \n",
    "\n",
    "    return [dx1, dx2, dx3, dx4]\n",
    "\n",
    "# Parameters\n",
    "delta = 8.33\n",
    "mu = 4.3\n",
    "epsilon = 0.43\n",
    "gamma = 9.81\n",
    "\n",
    "# Initial conditions\n",
    "x1_0 = 1.83\n",
    "x2_0 = 0\n",
    "x3_0 = 0.74\n",
    "x4_0 = 0\n",
    "\n",
    "# Time range for the simulation\n",
    "tStart = 0.0\n",
    "tEnd = 100.0\n",
    "\n",
    "# Time points for the animation frames\n",
    "num_frames = 1000\n",
    "t_points = np.linspace(tStart, tEnd, num_frames)\n",
    "\n",
    "# Solve the Lorenz system for all time points\n",
    "solution = solve_ivp(double_pendulum_system_1, [tStart, tEnd], [x1_0, x2_0, x3_0, x4_0],\n",
    "                     method='RK45', t_eval=t_points, args=(delta,mu,epsilon,gamma))\n",
    "\n",
    "# Extract the results for x, y, and z\n",
    "x1_values = solution.y[0]\n",
    "x2_values = solution.y[1]\n",
    "x3_values = solution.y[2]\n",
    "x4_values = solution.y[3]\n",
    "t_values = solution.t\n",
    "\n",
    "# Create the 3D plot\n",
    "fig = plt.figure()\n",
    "ax = fig.add_subplot(111, projection='3d')\n",
    "plt.rcParams['figure.figsize'] = [15,15]\n",
    "\n",
    "# Function to update the 3D plot for each animation frame\n",
    "def update_plot(frame):\n",
    "    ax.cla()  # Clear the previous frame\n",
    "    ax.set_xlabel('X')\n",
    "    ax.set_ylabel('Y')\n",
    "    ax.set_zlabel('time')\n",
    "    ax.set_title(f'Double Pendulum System - Time: {t_points[frame]:.2f}')\n",
    "    ax.plot(x1_values[:frame+1], x3_values[:frame+1], t_values[:frame+1], color='b')\n",
    "    ax.scatter(x1_values[frame], x3_values[frame], t_values[frame], color='r', s=50)\n",
    "\n",
    "# Create the animation\n",
    "animation = FuncAnimation(fig, update_plot, frames=num_frames, interval=50)\n",
    "\n",
    "# Show the animation\n",
    "plt.show()\n",
    "\n",
    "# Save the animation as an MP4 video file\n",
    "animation.save('Double_Pendulum_animation.gif', writer='pillow')\n",
    "\n",
    "# Show the animation\n",
    "plt.show()"
   ]
  },
  {
   "cell_type": "markdown",
   "id": "291d37bd",
   "metadata": {},
   "source": [
    "## Animation of the system when initial angles were very small"
   ]
  },
  {
   "cell_type": "code",
   "execution_count": null,
   "id": "4fbc12b8",
   "metadata": {},
   "outputs": [],
   "source": [
    "# Considering that initial angles are very small.\n",
    "x1_0 = 0.01\n",
    "x2_0 = 0\n",
    "x3_0 = 0.02\n",
    "x4_0 = 0\n",
    "\n",
    "tStart = 0\n",
    "tEnd = 50\n",
    "\n",
    "delta = 0 # b=0\n",
    "mu = 0.001 #frequency of the vibrating point is very less.\n",
    "epsilon = 9.81 # l=1\n",
    "gamma = 0.0001 # a is small compared to l"
   ]
  },
  {
   "cell_type": "code",
   "execution_count": null,
   "id": "26d16ee1",
   "metadata": {},
   "outputs": [],
   "source": [
    "solution = integrate.solve_ivp(double_pendulum_system, [tStart,tEnd], [x1_0,x2_0,x3_0,x4_0], method = 'RK45', t_eval = np.linspace(tStart,tEnd,101), args = (delta,mu,epsilon,gamma))"
   ]
  },
  {
   "cell_type": "code",
   "execution_count": null,
   "id": "a4ca19c5",
   "metadata": {},
   "outputs": [],
   "source": [
    "plt.rcParams['figure.figsize'] = [40,15]\n",
    "plottrajectory = plt.axes(projection = '3d')\n",
    "plottrajectory.plot3D(solution.y[0],solution.y[2],solution.t, linewidth = 0.8)"
   ]
  },
  {
   "cell_type": "code",
   "execution_count": null,
   "id": "43399377",
   "metadata": {},
   "outputs": [],
   "source": [
    "from mpl_toolkits.mplot3d import Axes3D\n",
    "from matplotlib.animation import FuncAnimation\n",
    "\n",
    "# Time points for the animation frames\n",
    "num_frames = 1000\n",
    "t_points = np.linspace(tStart, tEnd, num_frames)\n",
    "\n",
    "# Solve the Lorenz system for all time points\n",
    "solution = solve_ivp(double_pendulum_system, [tStart, tEnd], [x1_0, x2_0, x3_0, x4_0],\n",
    "                     method='RK45', t_eval=t_points, args=(delta,mu,epsilon,gamma))\n",
    "\n",
    "# Extract the results for x, y, and z\n",
    "x1_values = solution.y[0]\n",
    "x2_values = solution.y[1]\n",
    "x3_values = solution.y[2]\n",
    "x4_values = solution.y[3]\n",
    "t_values = solution.t\n",
    "\n",
    "# Create the 3D plot\n",
    "fig = plt.figure()\n",
    "ax = fig.add_subplot(111, projection='3d')\n",
    "plt.rcParams['figure.figsize'] = [15,15]\n",
    "\n",
    "# Function to update the 3D plot for each animation frame\n",
    "def update_plot(frame):\n",
    "    ax.cla()  # Clear the previous frame\n",
    "    ax.set_xlabel('theta_1')\n",
    "    ax.set_ylabel('theta_2')\n",
    "    ax.set_zlabel('time')\n",
    "    ax.set_title(f'Double Pendulum System - Time: {t_points[frame]:.2f}')\n",
    "    ax.plot(x1_values[:frame+1], x3_values[:frame+1], t_values[:frame+1], color='b')\n",
    "    ax.scatter(x1_values[frame], x3_values[frame], t_values[frame], color='r', s=50)\n",
    "\n",
    "# Create the animation\n",
    "animation = FuncAnimation(fig, update_plot, frames=num_frames, interval=50)\n",
    "\n",
    "# Show the animation\n",
    "plt.show()\n",
    "\n",
    "# Save the animation as an MP4 video file\n",
    "animation.save('Double_Pendulum_Small_Angles_animation.gif', writer='pillow')\n",
    "\n",
    "# Show the animation\n",
    "plt.show()"
   ]
  },
  {
   "cell_type": "markdown",
   "id": "6d68c6bb",
   "metadata": {},
   "source": [
    "## Animation of the system when it is inverted"
   ]
  },
  {
   "cell_type": "code",
   "execution_count": null,
   "id": "98cb4ab5",
   "metadata": {},
   "outputs": [],
   "source": [
    "delta = 0 # b=0\n",
    "mu = 0.1 #frequency of the vibrating point is very less.\n",
    "epsilon = 9.81 # l=1\n",
    "gamma = 0.01 # a is small compared to l"
   ]
  },
  {
   "cell_type": "code",
   "execution_count": null,
   "id": "70fea364",
   "metadata": {},
   "outputs": [],
   "source": [
    "x1_0 = 3.13\n",
    "x2_0 = 0\n",
    "x3_0 = 3.12\n",
    "x4_0 = 0\n",
    "\n",
    "tStart = 0\n",
    "tEnd = 50"
   ]
  },
  {
   "cell_type": "code",
   "execution_count": null,
   "id": "af37f4a8",
   "metadata": {},
   "outputs": [],
   "source": [
    "# Time points for the animation frames\n",
    "num_frames = 1000\n",
    "t_points = np.linspace(tStart, tEnd, num_frames)\n",
    "\n",
    "# Solve the Lorenz system for all time points\n",
    "solution = solve_ivp(double_pendulum_system, [tStart, tEnd], [x1_0, x2_0, x3_0, x4_0],\n",
    "                     method='RK45', t_eval=t_points, args=(delta,mu,epsilon,gamma))\n",
    "\n",
    "# Extract the results for x, y, and z\n",
    "x1_values = solution.y[0]\n",
    "x2_values = solution.y[1]\n",
    "x3_values = solution.y[2]\n",
    "x4_values = solution.y[3]\n",
    "t_values = solution.t\n",
    "\n",
    "# Create the 3D plot\n",
    "fig = plt.figure()\n",
    "ax = fig.add_subplot(111, projection='3d')\n",
    "plt.rcParams['figure.figsize'] = [15,15]\n",
    "\n",
    "# Function to update the 3D plot for each animation frame\n",
    "def update_plot(frame):\n",
    "    ax.cla()  # Clear the previous frame\n",
    "    ax.set_xlabel('theta_1')\n",
    "    ax.set_ylabel('theta_2')\n",
    "    ax.set_zlabel('time')\n",
    "    ax.set_title(f'Double Pendulum System - Time: {t_points[frame]:.2f}')\n",
    "    ax.plot(x1_values[:frame+1], x3_values[:frame+1], t_values[:frame+1], color='b')\n",
    "    ax.scatter(x1_values[frame], x3_values[frame], t_values[frame], color='r', s=50)\n",
    "\n",
    "# Create the animation\n",
    "animation = FuncAnimation(fig, update_plot, frames=num_frames, interval=50)\n",
    "\n",
    "# Show the animation\n",
    "plt.show()\n",
    "\n",
    "# Save the animation as an MP4 video file\n",
    "animation.save('Inverted_Double_Pendulum_animation.gif', writer='pillow')\n",
    "\n",
    "# Show the animation\n",
    "plt.show()"
   ]
  },
  {
   "cell_type": "markdown",
   "id": "cd01e5f7",
   "metadata": {},
   "source": [
    "## Bifurcation analysis for chaotic system"
   ]
  },
  {
   "cell_type": "code",
   "execution_count": null,
   "id": "27d56d5f",
   "metadata": {},
   "outputs": [],
   "source": [
    "def double_pendulum_system_1(t,r, mu, delta, epsilon, gamma):\n",
    "    \"\"\"\n",
    "    x1 = theta_1\n",
    "    x2 = theta_1_dot\n",
    "    x3 = theta_2\n",
    "    x4 = theta_2_dot\n",
    "    delta = bT/m\n",
    "    mu = wT\n",
    "    epsilon = gT**2/l\n",
    "    gamma = a*w*T/l\n",
    "    T = 1\n",
    "    \n",
    "    delta,mu, epsilon and gamma are the parameters. They affects the dynamics of the system.\n",
    "    \"\"\"\n",
    "    x1 , x2, x3, x4 = r\n",
    "    \n",
    "    dx1 = x2\n",
    "    \n",
    "    dx2 = -np.sin(x1-x3)*x4**2/(2-np.cos(x1-x3)**2) - np.cos(x1-x3)*np.sin(x1-x3)*x2**2/(2-np.cos(x1-x3)**2) - delta*x2 - 2*epsilon*np.sin(x1)/(2-np.cos(x1-x3)**2) + epsilon*np.cos(x1-x3)*np.sin(x3)/(2-np.cos(x1-x3)**2) - gamma*(delta*np.cos(mu*t)-mu*np.sin(mu*t))*((2*np.cos(x1)-gamma*np.cos(x1-x3)*np.cos(x3))/(2-np.cos(x1-x3)**2)) \n",
    "            \n",
    "    dx3 = x4\n",
    "    \n",
    "    dx4 = 2*np.sin(x1-x3)*x2**2/(2-np.cos(x1-x3)**2) + np.cos(x1-x3)*np.sin(x1-x3)*x4**2/(2-np.cos(x1-x3)**2) - delta*x4 - 2*epsilon*np.sin(x3)/(2-np.cos(x1-x3)**2) + 2*epsilon*np.cos(x1-x3)*np.sin(x1)/(2-np.cos(x1-x3)**2) - 2*gamma*(delta*np.cos(mu*t)-mu*np.sin(mu*t))*((np.cos(x3)-gamma*np.cos(x1-x3)*np.cos(x1))/(2-np.cos(x1-x3)**2)) \n",
    "\n",
    "    return [dx1, dx2, dx3, dx4]"
   ]
  },
  {
   "cell_type": "code",
   "execution_count": null,
   "id": "aa5fbf65",
   "metadata": {},
   "outputs": [],
   "source": [
    "gamma_range = np.linspace(1,10,100)\n",
    "x1_values = []  \n",
    "x2_values = []  \n",
    "x3_values = []  \n",
    "x4_values = []  "
   ]
  },
  {
   "cell_type": "code",
   "execution_count": null,
   "id": "870d40b5",
   "metadata": {},
   "outputs": [],
   "source": [
    "# for gamma in gamma_range:\n",
    "#     # Initial conditions\n",
    "#     x1_0 = 2.12 \n",
    "#     x2_0 = 0  \n",
    "#     x3_0 = 1.26       \n",
    "#     x4_0 = 0 \n",
    "    \n",
    "#     delta = 0 # b=0\n",
    "#     epsilon = 9.81 # l=1\n",
    "#     mu = 3.33 # a is small compared to l\n",
    "\n",
    "#     # Time range for the simulation\n",
    "#     tStart = 0.0\n",
    "#     tEnd = 50.0\n",
    "\n",
    "#     # Solve the system for the current frequency\n",
    "#     solution = solve_ivp(double_pendulum_system_1, [tStart, tEnd], [x1_0, x2_0, x3_0, x4_0],\n",
    "#                          method='RK45', t_eval=np.linspace(tStart, tEnd, 1000), args = (mu,delta,epsilon,gamma))\n",
    "\n",
    "#     # Extract the results for theta1, omega1, theta2, and omega2\n",
    "#     x1_values.append(solution.y[0])\n",
    "#     x2_values.append(solution.y[1])\n",
    "#     x3_values.append(solution.y[2])\n",
    "#     x4_values.append(solution.y[3])"
   ]
  },
  {
   "cell_type": "code",
   "execution_count": null,
   "id": "725683fc",
   "metadata": {},
   "outputs": [],
   "source": [
    "# Plot the bifurcation plot for theta1 vs omega\n",
    "plt.figure(figsize=(15, 15))\n",
    "plt.plot(gamma_range,x1_values, '.', markersize=1)\n",
    "plt.xlabel('Gamma')\n",
    "plt.ylabel('Theta1 (angle of the first pendulum)')\n",
    "plt.grid(True)\n",
    "plt.savefig('theta_1 vs gamma', dpi = 300)\n",
    "plt.show()\n",
    "\n",
    "# Plot the bifurcation plot for theta2 vs omega\n",
    "plt.figure(figsize=(15, 15))\n",
    "plt.plot(gamma_range, x3_values, '.', markersize=1)\n",
    "plt.xlabel('Gamma')\n",
    "plt.ylabel('Theta2 (angle of the second pendulum)')\n",
    "plt.grid(True)\n",
    "plt.savefig('theta_2 vs gamma', dpi = 300)\n",
    "plt.show()"
   ]
  },
  {
   "cell_type": "code",
   "execution_count": null,
   "id": "b93075b9",
   "metadata": {},
   "outputs": [],
   "source": [
    "plt.rcParams['figure.figsize'] = [25,25]\n",
    "plottrajectory = plt.axes(projection = '3d')\n",
    "plottrajectory.plot3D(x1_values,x3_values,gamma_range, linewidth = 0.8)\n",
    "plt.savefig('3d_bif_gamma', dpi = 300)"
   ]
  },
  {
   "cell_type": "code",
   "execution_count": null,
   "id": "b649bcd9",
   "metadata": {},
   "outputs": [],
   "source": [
    "delta_range = np.linspace(1,10,100)\n",
    "x1_values = []  \n",
    "x2_values = []  \n",
    "x3_values = []  \n",
    "x4_values = []  "
   ]
  },
  {
   "cell_type": "code",
   "execution_count": null,
   "id": "e7db1138",
   "metadata": {},
   "outputs": [],
   "source": [
    "for delta in delta_range:\n",
    "    # Initial conditions\n",
    "    x1_0 = 2.12 \n",
    "    x2_0 = 0  \n",
    "    x3_0 = 1.26       \n",
    "    x4_0 = 0 \n",
    "    \n",
    "    gamma = 0.333 \n",
    "    epsilon = 9.81 # l=1\n",
    "    mu = 3.33 # a is small compared to l\n",
    "\n",
    "    # Time range for the simulation\n",
    "    tStart = 0.0\n",
    "    tEnd = 50.0\n",
    "\n",
    "    # Solve the system for the current frequency\n",
    "    solution = solve_ivp(double_pendulum_system_1, [tStart, tEnd], [x1_0, x2_0, x3_0, x4_0],\n",
    "                         method='RK45', t_eval=np.linspace(tStart, tEnd, 1000), args = (mu,delta,epsilon,gamma))\n",
    "\n",
    "    # Extract the results for theta1, omega1, theta2, and omega2\n",
    "    x1_values.append(solution.y[0])\n",
    "    x2_values.append(solution.y[1])\n",
    "    x3_values.append(solution.y[2])\n",
    "    x4_values.append(solution.y[3])"
   ]
  },
  {
   "cell_type": "code",
   "execution_count": null,
   "id": "6daaabc1",
   "metadata": {},
   "outputs": [],
   "source": [
    "# Plot the bifurcation plot for theta1 vs omega\n",
    "plt.figure(figsize=(8, 8))\n",
    "plt.plot(delta_range,x1_values, '.', markersize=1)\n",
    "plt.xlabel('Delta')\n",
    "plt.ylabel('Theta1 (angle of the first pendulum)')\n",
    "plt.grid(True)\n",
    "plt.savefig('theta_1 vs delta', dpi = 300)\n",
    "plt.show()\n",
    "\n",
    "# Plot the bifurcation plot for theta2 vs omega\n",
    "plt.figure(figsize=(8, 8))\n",
    "plt.plot(delta_range, x3_values, '.', markersize=1)\n",
    "plt.xlabel('Delta')\n",
    "plt.ylabel('Theta2 (angle of the second pendulum)')\n",
    "plt.grid(True)\n",
    "plt.savefig('theta_2 vs delta', dpi = 300)\n",
    "plt.show()"
   ]
  },
  {
   "cell_type": "code",
   "execution_count": null,
   "id": "387d8e8d",
   "metadata": {},
   "outputs": [],
   "source": [
    "# plt.rcParams['figure.figsize'] = [25,25]\n",
    "# plottrajectory = plt.axes(projection = '3d')\n",
    "# plottrajectory.plot3D(x1_values,x3_values,delta_range, linewidth = 0.8)\n",
    "# plt.savefig('3d_bif_delta', dpi = 300)"
   ]
  },
  {
   "cell_type": "code",
   "execution_count": null,
   "id": "9bb03cae",
   "metadata": {},
   "outputs": [],
   "source": [
    "epsilon_range = np.linspace(1,10,500)\n",
    "x1_values = []  \n",
    "x2_values = []  \n",
    "x3_values = []  \n",
    "x4_values = []  "
   ]
  },
  {
   "cell_type": "code",
   "execution_count": null,
   "id": "84aa5c67",
   "metadata": {},
   "outputs": [],
   "source": [
    "for epsilon in epsilon_range:\n",
    "    # Initial conditions\n",
    "    x1_0 = 2.12 \n",
    "    x2_0 = 0  \n",
    "    x3_0 = 1.26       \n",
    "    x4_0 = 0 \n",
    "    \n",
    "    gamma = 0.333 \n",
    "    delta = 2.76 \n",
    "    mu = 3.33 # a is small compared to l\n",
    "\n",
    "    # Time range for the simulation\n",
    "    tStart = 0.0\n",
    "    tEnd = 50.0\n",
    "\n",
    "    # Solve the system for the current frequency\n",
    "    solution = solve_ivp(double_pendulum_system_1, [tStart, tEnd], [x1_0, x2_0, x3_0, x4_0],\n",
    "                         method='RK45', t_eval=np.linspace(tStart, tEnd, 1000), args = (mu,delta,epsilon,gamma))\n",
    "\n",
    "    # Extract the results for theta1, omega1, theta2, and omega2\n",
    "    x1_values.append(solution.y[0])\n",
    "    x2_values.append(solution.y[1])\n",
    "    x3_values.append(solution.y[2])\n",
    "    x4_values.append(solution.y[3])"
   ]
  },
  {
   "cell_type": "code",
   "execution_count": null,
   "id": "162a689f",
   "metadata": {},
   "outputs": [],
   "source": [
    "# Plot the bifurcation plot for theta1 vs omega\n",
    "plt.figure(figsize=(8, 8))\n",
    "plt.plot(epsilon_range,x1_values, '.', markersize=1)\n",
    "plt.xlabel('epsilon')\n",
    "plt.ylabel('Theta1 (angle of the first pendulum)')\n",
    "plt.grid(True)\n",
    "plt.savefig('theta_1 vs epsilon', dpi = 300)\n",
    "plt.show()\n",
    "\n",
    "# Plot the bifurcation plot for theta2 vs omega\n",
    "plt.figure(figsize=(8, 8))\n",
    "plt.plot(epsilon_range, x3_values, '.', markersize=1)\n",
    "plt.xlabel('epsilon')\n",
    "plt.ylabel('Theta2 (angle of the second pendulum)')\n",
    "plt.grid(True)\n",
    "plt.savefig('theta_2 vs epsilon', dpi = 300)\n",
    "plt.show()"
   ]
  },
  {
   "cell_type": "code",
   "execution_count": null,
   "id": "745a13ae",
   "metadata": {},
   "outputs": [],
   "source": [
    "# plt.rcParams['figure.figsize'] = [25,25]\n",
    "# plottrajectory = plt.axes(projection = '3d')\n",
    "# plottrajectory.plot3D(x1_values,x3_values,epsilon_range, linewidth = 0.8)\n",
    "# plt.savefig('3d_bif_epsilon', dpi = 300)"
   ]
  },
  {
   "cell_type": "code",
   "execution_count": null,
   "id": "2d63b447",
   "metadata": {},
   "outputs": [],
   "source": [
    "mu_range = np.linspace(1,10,100) \n",
    "\n",
    "x1_values = []  \n",
    "x2_values = []  \n",
    "x3_values = []  \n",
    "x4_values = []  "
   ]
  },
  {
   "cell_type": "code",
   "execution_count": null,
   "id": "24a3153a",
   "metadata": {},
   "outputs": [],
   "source": [
    "# Iterate through each frequency in the frequency range\n",
    "for mu in mu_range:\n",
    "    # Initial conditions\n",
    "    x1_0 = 0.01 \n",
    "    x2_0 = 0  \n",
    "    x3_0 = 0.03       \n",
    "    x4_0 = 0 \n",
    "    \n",
    "    delta = 0 # b=0\n",
    "    epsilon = 9.81 # l=1\n",
    "    gamma = 0.0001 # a is small compared to l\n",
    "\n",
    "    # Time range for the simulation\n",
    "    tStart = 0.0\n",
    "    tEnd = 50.0\n",
    "\n",
    "    # Solve the system for the current frequency\n",
    "    solution = solve_ivp(double_pendulum_system, [tStart, tEnd], [x1_0, x2_0, x3_0, x4_0],\n",
    "                         method='RK45', t_eval=np.linspace(tStart, tEnd, 1000), args = (mu,delta,epsilon,gamma))\n",
    "\n",
    "    # Extract the results for theta1, omega1, theta2, and omega2\n",
    "    x1_values.append(solution.y[0])\n",
    "    x2_values.append(solution.y[1])\n",
    "    x3_values.append(solution.y[2])\n",
    "    x4_values.append(solution.y[3])"
   ]
  },
  {
   "cell_type": "code",
   "execution_count": null,
   "id": "bfd3c476",
   "metadata": {},
   "outputs": [],
   "source": [
    "# Plot the bifurcation plot for theta1 vs omega\n",
    "plt.figure(figsize=(8,8))\n",
    "plt.plot(mu_range,x1_values, '.', markersize=1, label = 'Theta_1 vs w')\n",
    "plt.xlabel('Suspension Point Frequency')\n",
    "plt.ylabel('Theta1 (angle of the first pendulum)')\n",
    "plt.grid(True)\n",
    "plt.savefig('theta_1 vs w', dpi = 300)\n",
    "plt.legend()\n",
    "plt.show()\n",
    "\n",
    "# Plot the bifurcation plot for theta2 vs omega\n",
    "plt.figure(figsize=(8, 8))\n",
    "plt.plot(mu_range, x3_values, '.', markersize=1, label = 'Theta_2 vs w')\n",
    "plt.xlabel('Suspension Point Frequency')\n",
    "plt.ylabel('Theta2 (angle of the second pendulum)')\n",
    "plt.grid(True)\n",
    "plt.savefig('theta_2 vs w', dpi = 300)\n",
    "plt.legend()\n",
    "plt.show()"
   ]
  },
  {
   "cell_type": "markdown",
   "id": "2d0c312d",
   "metadata": {},
   "source": [
    "## Chaotic motion of the system"
   ]
  },
  {
   "cell_type": "code",
   "execution_count": null,
   "id": "e113f8cc",
   "metadata": {},
   "outputs": [],
   "source": [
    "def double_pendulum_system_1(t,r, mu, delta, epsilon, gamma):\n",
    "    \"\"\"\n",
    "    x1 = theta_1\n",
    "    x2 = theta_1_dot\n",
    "    x3 = theta_2\n",
    "    x4 = theta_2_dot\n",
    "    delta = bT/m\n",
    "    mu = wT\n",
    "    epsilon = gT**2/l\n",
    "    gamma = a*w*T/l\n",
    "    T = 1\n",
    "    \n",
    "    delta,mu, epsilon and gamma are the parameters. They affects the dynamics of the system.\n",
    "    \"\"\"\n",
    "    x1 , x2, x3, x4 = r\n",
    "    \n",
    "    dx1 = x2\n",
    "    \n",
    "    dx2 = -np.sin(x1-x3)*x4**2/(2-np.cos(x1-x3)**2) - np.cos(x1-x3)*np.sin(x1-x3)*x2**2/(2-np.cos(x1-x3)**2) - delta*x2 - 2*epsilon*np.sin(x1)/(2-np.cos(x1-x3)**2) + epsilon*np.cos(x1-x3)*np.sin(x3)/(2-np.cos(x1-x3)**2) - gamma*(delta*np.cos(mu*t)-mu*np.sin(mu*t))*((2*np.cos(x1)-gamma*np.cos(x1-x3)*np.cos(x3))/(2-np.cos(x1-x3)**2)) \n",
    "            \n",
    "    dx3 = x4\n",
    "    \n",
    "    dx4 = 2*np.sin(x1-x3)*x2**2/(2-np.cos(x1-x3)**2) + np.cos(x1-x3)*np.sin(x1-x3)*x4**2/(2-np.cos(x1-x3)**2) - delta*x4 - 2*epsilon*np.sin(x3)/(2-np.cos(x1-x3)**2) + 2*epsilon*np.cos(x1-x3)*np.sin(x1)/(2-np.cos(x1-x3)**2) - 2*gamma*(delta*np.cos(mu*t)-mu*np.sin(mu*t))*((np.cos(x3)-gamma*np.cos(x1-x3)*np.cos(x1))/(2-np.cos(x1-x3)**2)) \n",
    "\n",
    "    return [dx1, dx2, dx3, dx4]"
   ]
  },
  {
   "cell_type": "code",
   "execution_count": null,
   "id": "203c5b7f",
   "metadata": {},
   "outputs": [],
   "source": [
    "x1_0 = 2.17\n",
    "x2_0 = 0\n",
    "x3_0 = 1.75\n",
    "x4_0 = 0\n",
    "\n",
    "tStart = 0\n",
    "tEnd = 500\n",
    "\n",
    "delta = 0 # b=0\n",
    "mu = 0.136 #frequency of the vibrating point is very less.\n",
    "epsilon = 9.81 # l=1\n",
    "gamma = 0.05 # a is small compared to l"
   ]
  },
  {
   "cell_type": "code",
   "execution_count": null,
   "id": "b2c7bf20",
   "metadata": {},
   "outputs": [],
   "source": [
    "solution_1 = integrate.solve_ivp(double_pendulum_system_1, [tStart,tEnd], [x1_0,x2_0,x3_0,x4_0], method = 'RK45', t_eval = np.linspace(tStart,tEnd,1001), args = (delta,mu,epsilon,gamma))"
   ]
  },
  {
   "cell_type": "code",
   "execution_count": null,
   "id": "9cd65779",
   "metadata": {},
   "outputs": [],
   "source": [
    "x1_0 = 2.16 \n",
    "x2_0 = 0\n",
    "x3_0 = 1.76\n",
    "x4_0 = 0"
   ]
  },
  {
   "cell_type": "code",
   "execution_count": null,
   "id": "313d4ddc",
   "metadata": {},
   "outputs": [],
   "source": [
    "solution_2 = integrate.solve_ivp(double_pendulum_system_1, [tStart,tEnd], [x1_0,x2_0,x3_0,x4_0], method = 'RK45', t_eval = np.linspace(tStart,tEnd,101), args = (delta,mu,epsilon,gamma))"
   ]
  },
  {
   "cell_type": "code",
   "execution_count": null,
   "id": "5d45b186",
   "metadata": {},
   "outputs": [],
   "source": [
    "x1_0 = 2.17\n",
    "x2_0 = 0.01\n",
    "x3_0 = 1.75\n",
    "x4_0 = 0"
   ]
  },
  {
   "cell_type": "code",
   "execution_count": null,
   "id": "fe3c15e1",
   "metadata": {},
   "outputs": [],
   "source": [
    "solution_3 = integrate.solve_ivp(double_pendulum_system_1, [tStart,tEnd], [x1_0,x2_0,x3_0,x4_0], method = 'RK45', t_eval = np.linspace(tStart,tEnd,101), args = (delta,mu,epsilon,gamma))"
   ]
  },
  {
   "cell_type": "code",
   "execution_count": null,
   "id": "5aa89d34",
   "metadata": {},
   "outputs": [],
   "source": [
    "x1_0 = 2.16\n",
    "x2_0 = 0\n",
    "x3_0 = 1.76\n",
    "x4_0 = 0.01"
   ]
  },
  {
   "cell_type": "code",
   "execution_count": null,
   "id": "3d54e0e8",
   "metadata": {},
   "outputs": [],
   "source": [
    "solution_4 = integrate.solve_ivp(double_pendulum_system_1, [tStart,tEnd], [x1_0,x2_0,x3_0,x4_0], method = 'RK45', t_eval = np.linspace(tStart,tEnd,101), args = (delta,mu,epsilon,gamma))"
   ]
  },
  {
   "cell_type": "code",
   "execution_count": null,
   "id": "78d63dba",
   "metadata": {},
   "outputs": [],
   "source": [
    "plt.rcParams['figure.figsize'] = [30,15]\n",
    "plottrajectory = plt.axes(projection = '3d')\n",
    "plottrajectory.plot3D(solution_1.y[0],solution_1.y[2],solution_1.t, linewidth = 0.8, label='1')\n",
    "plottrajectory.plot3D(solution_2.y[0],solution_2.y[2],solution_2.t, linewidth = 0.8, label='2')\n",
    "# plottrajectory.plot3D(solution_3.y[0],solution_3.y[2],solution_3.t, linewidth = 0.8, label='3')\n",
    "# plottrajectory.plot3D(solution_4.y[0],solution_4.y[2],solution_4.t, linewidth = 0.8, label='4')\n",
    "plt.savefig('Butterfly Effect', dpi = 300)\n",
    "plt.legend()"
   ]
  },
  {
   "cell_type": "code",
   "execution_count": null,
   "id": "ba64d1c1",
   "metadata": {},
   "outputs": [],
   "source": [
    "plt.plot(solution_1.y[0], solution_1.y[2])\n",
    "plt.plot(solution_2.y[0], solution_2.y[2])\n",
    "plt.xlabel('theta_1')\n",
    "plt.ylabel('theta_2')"
   ]
  },
  {
   "cell_type": "code",
   "execution_count": null,
   "id": "e68392c8",
   "metadata": {},
   "outputs": [],
   "source": [
    "plt.plot(solution_1.t, solution_1.y[0], c = 'red', label = 'theta_1')\n",
    "plt.plot(solution_2.t, solution_2.y[0], c = 'purple', label = 'theta_2')\n",
    "plt.legend()\n",
    "plt.savefig('theta_1 vs time')\n",
    "plt.show()\n",
    "\n",
    "plt.plot(solution_1.t, solution_1.y[2], c = 'red', label = 'theta_1')\n",
    "plt.plot(solution_2.t, solution_2.y[2], c = 'purple', label = 'theta_2')\n",
    "plt.legend()\n",
    "plt.savefig('theta_2 vs time')\n",
    "plt.show()"
   ]
  },
  {
   "cell_type": "code",
   "execution_count": null,
   "id": "b2f86ccc",
   "metadata": {},
   "outputs": [],
   "source": []
  }
 ],
 "metadata": {
  "kernelspec": {
   "display_name": "Python 3 (ipykernel)",
   "language": "python",
   "name": "python3"
  },
  "language_info": {
   "codemirror_mode": {
    "name": "ipython",
    "version": 3
   },
   "file_extension": ".py",
   "mimetype": "text/x-python",
   "name": "python",
   "nbconvert_exporter": "python",
   "pygments_lexer": "ipython3",
   "version": "3.9.7"
  }
 },
 "nbformat": 4,
 "nbformat_minor": 5
}

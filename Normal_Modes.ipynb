{
 "cells": [
  {
   "cell_type": "code",
   "execution_count": 1,
   "id": "6d759c27",
   "metadata": {},
   "outputs": [],
   "source": [
    "import numpy as np\n",
    "import sympy as smp\n",
    "from scipy.integrate import odeint\n",
    "import matplotlib.pyplot as plt\n",
    "from matplotlib import animation\n",
    "from mpl_toolkits.mplot3d import Axes3D\n",
    "from matplotlib.animation import PillowWriter"
   ]
  },
  {
   "cell_type": "code",
   "execution_count": 2,
   "id": "f103cee1",
   "metadata": {},
   "outputs": [],
   "source": [
    "t, m, g, l, w, a, b, c, alpha = smp.symbols(r't m g l w a b c \\alpha')\n",
    "\n",
    "the2,the1 =  smp.symbols(r'\\theta_1, \\theta_2 ', cls=smp.Function)\n",
    "\n",
    "the1 = the1(t)\n",
    "the1_d = smp.diff(the1, t)\n",
    "the1_dd = smp.diff(the1_d, t)\n",
    "\n",
    "the2 = the2(t)\n",
    "the2_d = smp.diff(the2, t)\n",
    "the2_dd = smp.diff(smp.diff(the2, t), t)\n",
    "\n",
    "x1, y1, x2, y2 = smp.symbols('x_1, y_1, x_2, y_2', cls=smp.Function)\n",
    "x1= x1(t, the1)\n",
    "y1= y1(t, the1)\n",
    "x2= x2(t, the1, the2)\n",
    "y2= y2(t, the1, the2)"
   ]
  },
  {
   "cell_type": "code",
   "execution_count": 3,
   "id": "6a407a3f",
   "metadata": {},
   "outputs": [],
   "source": [
    "x1 = a*smp.sin(w*t)+l*smp.sin(the1)\n",
    "y1 = -l*smp.cos(the1)\n",
    "x2 = a*smp.sin(w*t)+l*smp.sin(the1) + l*smp.sin(the2)\n",
    "y2 = -l*smp.cos(the1) -l*smp.cos(the2)\n",
    "\n",
    "vx1_f = smp.lambdify((t,w,l,a,the1,the2,the1_d,the2_d), smp.diff(x1, t))\n",
    "vx2_f = smp.lambdify((t,w,l,a,the1,the2,the1_d,the2_d), smp.diff(x2, t))\n",
    "vy1_f = smp.lambdify((t,w,l,a,the1,the2,the1_d,the2_d), smp.diff(y1, t))\n",
    "vy2_f = smp.lambdify((t,w,l,a,the1,the2,the1_d,the2_d), smp.diff(y2, t))\n",
    "\n",
    "T = 1/2* m * (smp.diff(x1, t)**2 + smp.diff(y1, t)**2) + 1/2 * m  *(smp.diff(x2, t)**2 +  smp.diff(y2, t)**2)\n",
    "V = m*g*y1 + m*g*y2\n",
    "L = T-V"
   ]
  },
  {
   "cell_type": "markdown",
   "id": "a6127948",
   "metadata": {},
   "source": [
    "We have neglected the effect of damping for this case. So we will not find the Rayleigh Dissipation Constant."
   ]
  },
  {
   "cell_type": "code",
   "execution_count": 4,
   "id": "1ba309b5",
   "metadata": {},
   "outputs": [],
   "source": [
    "LE1 = smp.diff(L, the1) - smp.diff(smp.diff(L, the1_d), t)\n",
    "LE1 = LE1.simplify()"
   ]
  },
  {
   "cell_type": "code",
   "execution_count": 5,
   "id": "060cef00",
   "metadata": {},
   "outputs": [],
   "source": [
    "LE2 = smp.diff(L, the2) - smp.diff(smp.diff(L, the2_d), t)\n",
    "LE2 = LE2.simplify()"
   ]
  },
  {
   "cell_type": "code",
   "execution_count": 6,
   "id": "d62f3c00",
   "metadata": {},
   "outputs": [],
   "source": [
    "sols = smp.solve([LE1, LE2], (the1_dd, the2_dd),simplify=False, rational=False)"
   ]
  },
  {
   "cell_type": "code",
   "execution_count": 7,
   "id": "31bc2034",
   "metadata": {},
   "outputs": [
    {
     "data": {
      "text/latex": [
       "$\\displaystyle \\frac{0.25 a w^{2} \\sin{\\left(t w \\right)} \\cos{\\left(\\theta_{1}{\\left(t \\right)} - \\theta_{2}{\\left(t \\right)} \\right)} \\cos{\\left(\\theta_{1}{\\left(t \\right)} \\right)}}{0.25 l \\cos^{2}{\\left(\\theta_{1}{\\left(t \\right)} - \\theta_{2}{\\left(t \\right)} \\right)} - 0.5 l} - \\frac{0.5 a w^{2} \\sin{\\left(t w \\right)} \\cos{\\left(\\theta_{2}{\\left(t \\right)} \\right)}}{0.25 l \\cos^{2}{\\left(\\theta_{1}{\\left(t \\right)} - \\theta_{2}{\\left(t \\right)} \\right)} - 0.5 l} - \\frac{0.25 g \\sin{\\left(\\theta_{1}{\\left(t \\right)} \\right)} \\cos{\\left(\\theta_{1}{\\left(t \\right)} - \\theta_{2}{\\left(t \\right)} \\right)}}{0.25 l \\cos^{2}{\\left(\\theta_{1}{\\left(t \\right)} - \\theta_{2}{\\left(t \\right)} \\right)} - 0.5 l} + \\frac{0.5 g \\sin{\\left(\\theta_{2}{\\left(t \\right)} \\right)}}{0.25 l \\cos^{2}{\\left(\\theta_{1}{\\left(t \\right)} - \\theta_{2}{\\left(t \\right)} \\right)} - 0.5 l} - \\frac{0.25 l \\sin{\\left(\\theta_{1}{\\left(t \\right)} - \\theta_{2}{\\left(t \\right)} \\right)} \\cos{\\left(\\theta_{1}{\\left(t \\right)} - \\theta_{2}{\\left(t \\right)} \\right)} \\left(\\frac{d}{d t} \\theta_{2}{\\left(t \\right)}\\right)^{2}}{0.25 l \\cos^{2}{\\left(\\theta_{1}{\\left(t \\right)} - \\theta_{2}{\\left(t \\right)} \\right)} - 0.5 l} - \\frac{0.25 l \\sin{\\left(\\theta_{1}{\\left(t \\right)} - \\theta_{2}{\\left(t \\right)} \\right)} \\left(\\frac{d}{d t} \\theta_{1}{\\left(t \\right)}\\right)^{2}}{0.25 l \\cos^{2}{\\left(\\theta_{1}{\\left(t \\right)} - \\theta_{2}{\\left(t \\right)} \\right)} - 0.5 l}$"
      ],
      "text/plain": [
       "0.25*a*w**2*sin(t*w)*cos(\\theta_1(t) - \\theta_2(t))*cos(\\theta_1(t))/(0.25*l*cos(\\theta_1(t) - \\theta_2(t))**2 - 0.5*l) - 0.5*a*w**2*sin(t*w)*cos(\\theta_2(t))/(0.25*l*cos(\\theta_1(t) - \\theta_2(t))**2 - 0.5*l) - 0.25*g*sin(\\theta_1(t))*cos(\\theta_1(t) - \\theta_2(t))/(0.25*l*cos(\\theta_1(t) - \\theta_2(t))**2 - 0.5*l) + 0.5*g*sin(\\theta_2(t))/(0.25*l*cos(\\theta_1(t) - \\theta_2(t))**2 - 0.5*l) - 0.25*l*sin(\\theta_1(t) - \\theta_2(t))*cos(\\theta_1(t) - \\theta_2(t))*Derivative(\\theta_2(t), t)**2/(0.25*l*cos(\\theta_1(t) - \\theta_2(t))**2 - 0.5*l) - 0.25*l*sin(\\theta_1(t) - \\theta_2(t))*Derivative(\\theta_1(t), t)**2/(0.25*l*cos(\\theta_1(t) - \\theta_2(t))**2 - 0.5*l)"
      ]
     },
     "execution_count": 7,
     "metadata": {},
     "output_type": "execute_result"
    }
   ],
   "source": [
    "sols[the1_dd]"
   ]
  },
  {
   "cell_type": "code",
   "execution_count": 8,
   "id": "e6cf5e95",
   "metadata": {},
   "outputs": [
    {
     "data": {
      "text/latex": [
       "$\\displaystyle \\frac{1.0 a w^{2} \\sin{\\left(t w \\right)} \\cos{\\left(\\theta_{1}{\\left(t \\right)} - \\theta_{2}{\\left(t \\right)} \\right)} \\cos{\\left(\\theta_{2}{\\left(t \\right)} \\right)}}{0.5 l \\cos^{2}{\\left(\\theta_{1}{\\left(t \\right)} - \\theta_{2}{\\left(t \\right)} \\right)} - 1.0 l} - \\frac{1.0 a w^{2} \\sin{\\left(t w \\right)} \\cos{\\left(\\theta_{1}{\\left(t \\right)} \\right)}}{0.5 l \\cos^{2}{\\left(\\theta_{1}{\\left(t \\right)} - \\theta_{2}{\\left(t \\right)} \\right)} - 1.0 l} + \\frac{1.0 g \\sin{\\left(\\theta_{1}{\\left(t \\right)} \\right)}}{0.5 l \\cos^{2}{\\left(\\theta_{1}{\\left(t \\right)} - \\theta_{2}{\\left(t \\right)} \\right)} - 1.0 l} - \\frac{1.0 g \\sin{\\left(\\theta_{2}{\\left(t \\right)} \\right)} \\cos{\\left(\\theta_{1}{\\left(t \\right)} - \\theta_{2}{\\left(t \\right)} \\right)}}{0.5 l \\cos^{2}{\\left(\\theta_{1}{\\left(t \\right)} - \\theta_{2}{\\left(t \\right)} \\right)} - 1.0 l} + \\frac{0.5 l \\sin{\\left(\\theta_{1}{\\left(t \\right)} - \\theta_{2}{\\left(t \\right)} \\right)} \\cos{\\left(\\theta_{1}{\\left(t \\right)} - \\theta_{2}{\\left(t \\right)} \\right)} \\left(\\frac{d}{d t} \\theta_{1}{\\left(t \\right)}\\right)^{2}}{0.5 l \\cos^{2}{\\left(\\theta_{1}{\\left(t \\right)} - \\theta_{2}{\\left(t \\right)} \\right)} - 1.0 l} + \\frac{1.0 l \\sin{\\left(\\theta_{1}{\\left(t \\right)} - \\theta_{2}{\\left(t \\right)} \\right)} \\left(\\frac{d}{d t} \\theta_{2}{\\left(t \\right)}\\right)^{2}}{0.5 l \\cos^{2}{\\left(\\theta_{1}{\\left(t \\right)} - \\theta_{2}{\\left(t \\right)} \\right)} - 1.0 l}$"
      ],
      "text/plain": [
       "1.0*a*w**2*sin(t*w)*cos(\\theta_1(t) - \\theta_2(t))*cos(\\theta_2(t))/(0.5*l*cos(\\theta_1(t) - \\theta_2(t))**2 - 1.0*l) - 1.0*a*w**2*sin(t*w)*cos(\\theta_1(t))/(0.5*l*cos(\\theta_1(t) - \\theta_2(t))**2 - 1.0*l) + 1.0*g*sin(\\theta_1(t))/(0.5*l*cos(\\theta_1(t) - \\theta_2(t))**2 - 1.0*l) - 1.0*g*sin(\\theta_2(t))*cos(\\theta_1(t) - \\theta_2(t))/(0.5*l*cos(\\theta_1(t) - \\theta_2(t))**2 - 1.0*l) + 0.5*l*sin(\\theta_1(t) - \\theta_2(t))*cos(\\theta_1(t) - \\theta_2(t))*Derivative(\\theta_1(t), t)**2/(0.5*l*cos(\\theta_1(t) - \\theta_2(t))**2 - 1.0*l) + 1.0*l*sin(\\theta_1(t) - \\theta_2(t))*Derivative(\\theta_2(t), t)**2/(0.5*l*cos(\\theta_1(t) - \\theta_2(t))**2 - 1.0*l)"
      ]
     },
     "execution_count": 8,
     "metadata": {},
     "output_type": "execute_result"
    }
   ],
   "source": [
    "sols[the2_dd]"
   ]
  },
  {
   "cell_type": "code",
   "execution_count": 9,
   "id": "83b01260",
   "metadata": {},
   "outputs": [],
   "source": [
    "a = LE1.subs([(smp.sin(the1-the2), the1-the2),\n",
    "         (smp.cos(the1-the2), 1),\n",
    "         (smp.cos(the1), 1),\n",
    "         (smp.sin(the1), the1),\n",
    "         (the1, c*smp.sin(w*t)),\n",
    "         (the2, c*alpha*smp.sin(w*t)),\n",
    "         (m, 1),\n",
    "         (l,1),(a,0.1),\n",
    "         ]).doit().series(c, 0, 2).removeO().simplify()\n",
    "b = LE2.subs([(smp.sin(the1-the2), the1-the2),\n",
    "         (smp.cos(the1-the2), 1),\n",
    "         (smp.cos(the1), 1),\n",
    "         (smp.cos(the2), 1),\n",
    "         (smp.sin(the1), the1),\n",
    "         (smp.sin(the2), the2), \n",
    "         (the1, c*smp.sin(w*t)),\n",
    "         (the2, c*alpha*smp.sin(w*t)),\n",
    "         (m, 1),\n",
    "         (l,1),(a,0.1),\n",
    "         ]).doit().series(c, 0, 2).removeO().simplify()"
   ]
  },
  {
   "cell_type": "code",
   "execution_count": 10,
   "id": "47e5e451",
   "metadata": {},
   "outputs": [
    {
     "data": {
      "text/latex": [
       "$\\displaystyle a w^{2} + c \\left(- \\alpha g + \\alpha w^{2} + w^{2}\\right)$"
      ],
      "text/plain": [
       "a*w**2 + c*(-\\alpha*g + \\alpha*w**2 + w**2)"
      ]
     },
     "execution_count": 10,
     "metadata": {},
     "output_type": "execute_result"
    }
   ],
   "source": [
    "b.args[1]"
   ]
  },
  {
   "cell_type": "code",
   "execution_count": 11,
   "id": "d9bf9be7",
   "metadata": {},
   "outputs": [
    {
     "data": {
      "text/latex": [
       "$\\displaystyle c \\left(1.0 \\alpha w^{2} - 2.0 g + 2.0 w^{2}\\right) + 0.2 w^{2}$"
      ],
      "text/plain": [
       "c*(1.0*\\alpha*w**2 - 2.0*g + 2.0*w**2) + 0.2*w**2"
      ]
     },
     "execution_count": 11,
     "metadata": {},
     "output_type": "execute_result"
    }
   ],
   "source": [
    "a.args[0]"
   ]
  },
  {
   "cell_type": "code",
   "execution_count": 12,
   "id": "e0891d3f",
   "metadata": {},
   "outputs": [],
   "source": [
    "soln = smp.solve([a.args[0], b.args[1]], (w, alpha))"
   ]
  },
  {
   "cell_type": "code",
   "execution_count": 13,
   "id": "90068c6a",
   "metadata": {},
   "outputs": [
    {
     "data": {
      "text/latex": [
       "$\\displaystyle - 2.23606797749979 \\sqrt{\\frac{c g \\left(-2.0 - \\frac{1.4142135623731 \\left(a c + c^{2} + 0.005\\right)^{0.5}}{c} - \\frac{0.1}{c}\\right)}{5.0 a - 5.0 c - 1.0}}$"
      ],
      "text/plain": [
       "-2.23606797749979*sqrt(c*g*(-2.0 - 1.4142135623731*(a*c + c**2 + 0.005)**0.5/c - 0.1/c)/(5.0*a - 5.0*c - 1.0))"
      ]
     },
     "execution_count": 13,
     "metadata": {},
     "output_type": "execute_result"
    }
   ],
   "source": [
    "soln[0][0]"
   ]
  },
  {
   "cell_type": "code",
   "execution_count": 14,
   "id": "6bbf8153",
   "metadata": {},
   "outputs": [
    {
     "data": {
      "text/latex": [
       "$\\displaystyle - \\frac{1.4142135623731 \\sqrt{a c + c^{2} + 0.005}}{c} - \\frac{0.1}{c}$"
      ],
      "text/plain": [
       "-1.4142135623731*sqrt(a*c + c**2 + 0.005)/c - 0.1/c"
      ]
     },
     "execution_count": 14,
     "metadata": {},
     "output_type": "execute_result"
    }
   ],
   "source": [
    "soln[0][1]"
   ]
  },
  {
   "cell_type": "code",
   "execution_count": 15,
   "id": "ea21b733",
   "metadata": {},
   "outputs": [
    {
     "data": {
      "text/latex": [
       "$\\displaystyle 2.23606797749979 \\sqrt{\\frac{c g \\left(-2.0 - \\frac{1.4142135623731 \\left(a c + c^{2} + 0.005\\right)^{0.5}}{c} - \\frac{0.1}{c}\\right)}{5.0 a - 5.0 c - 1.0}}$"
      ],
      "text/plain": [
       "2.23606797749979*sqrt(c*g*(-2.0 - 1.4142135623731*(a*c + c**2 + 0.005)**0.5/c - 0.1/c)/(5.0*a - 5.0*c - 1.0))"
      ]
     },
     "execution_count": 15,
     "metadata": {},
     "output_type": "execute_result"
    }
   ],
   "source": [
    "soln[1][0]"
   ]
  },
  {
   "cell_type": "code",
   "execution_count": 16,
   "id": "02acb2c1",
   "metadata": {},
   "outputs": [
    {
     "data": {
      "text/latex": [
       "$\\displaystyle - \\frac{1.4142135623731 \\sqrt{a c + c^{2} + 0.005}}{c} - \\frac{0.1}{c}$"
      ],
      "text/plain": [
       "-1.4142135623731*sqrt(a*c + c**2 + 0.005)/c - 0.1/c"
      ]
     },
     "execution_count": 16,
     "metadata": {},
     "output_type": "execute_result"
    }
   ],
   "source": [
    "soln[1][1]"
   ]
  },
  {
   "cell_type": "code",
   "execution_count": 17,
   "id": "92656521",
   "metadata": {},
   "outputs": [],
   "source": [
    "tau = smp.symbols(r'\\tau')\n",
    "w1 = smp.limit(soln[0][0].subs(c,tau/l).simplify(), tau,smp.oo)\n",
    "w2 = smp.limit(soln[0][1].subs(c,tau/l).simplify(), tau,smp.oo)\n",
    "w3 = smp.limit(soln[1][0].subs(c,tau/l).simplify(), tau,smp.oo)\n",
    "w4 = smp.limit(soln[1][1].subs(c,tau/l).simplify(), tau,smp.oo)"
   ]
  },
  {
   "cell_type": "code",
   "execution_count": 18,
   "id": "c7632498",
   "metadata": {},
   "outputs": [
    {
     "data": {
      "text/latex": [
       "$\\displaystyle - 1.84775906502257 \\sqrt{g}$"
      ],
      "text/plain": [
       "-1.84775906502257*sqrt(g)"
      ]
     },
     "execution_count": 18,
     "metadata": {},
     "output_type": "execute_result"
    }
   ],
   "source": [
    "w1"
   ]
  },
  {
   "cell_type": "code",
   "execution_count": 19,
   "id": "ac5bd2c5",
   "metadata": {},
   "outputs": [
    {
     "data": {
      "text/latex": [
       "$\\displaystyle - 1.4142135623731 l \\sqrt{\\frac{1}{l^{2}}}$"
      ],
      "text/plain": [
       "-1.4142135623731*l*sqrt(l**(-2))"
      ]
     },
     "execution_count": 19,
     "metadata": {},
     "output_type": "execute_result"
    }
   ],
   "source": [
    "w2"
   ]
  },
  {
   "cell_type": "code",
   "execution_count": 20,
   "id": "531fcd45",
   "metadata": {},
   "outputs": [
    {
     "data": {
      "text/latex": [
       "$\\displaystyle 1.84775906502257 \\sqrt{g}$"
      ],
      "text/plain": [
       "1.84775906502257*sqrt(g)"
      ]
     },
     "execution_count": 20,
     "metadata": {},
     "output_type": "execute_result"
    }
   ],
   "source": [
    "w3"
   ]
  },
  {
   "cell_type": "code",
   "execution_count": 21,
   "id": "3d66233b",
   "metadata": {},
   "outputs": [
    {
     "data": {
      "text/latex": [
       "$\\displaystyle - 1.4142135623731 l \\sqrt{\\frac{1}{l^{2}}}$"
      ],
      "text/plain": [
       "-1.4142135623731*l*sqrt(l**(-2))"
      ]
     },
     "execution_count": 21,
     "metadata": {},
     "output_type": "execute_result"
    }
   ],
   "source": [
    "w4"
   ]
  },
  {
   "cell_type": "markdown",
   "id": "dbaddd18",
   "metadata": {},
   "source": [
    "'soln' here are the normal modes of the system. At one particular frequency, the bobs will be in phase with each other and at other frequency, they will be out of phase with each other."
   ]
  },
  {
   "cell_type": "code",
   "execution_count": 22,
   "id": "d31f12ff",
   "metadata": {},
   "outputs": [],
   "source": [
    "# dz1dt_f = smp.lambdify((t, m, g, w, l, a, the1, the2, the1_d, the2_d), sols[the1_dd])\n",
    "# dthe1dt_f = smp.lambdify(the1_d, the1_d)\n",
    "\n",
    "# dz2dt_f = smp.lambdify((t, m, g, w, l, a, the1, the2, the1_d, the2_d), sols[the2_dd])\n",
    "# dthe2dt_f = smp.lambdify(the2_d, the2_d)\n",
    "\n",
    "\n",
    "# def dSdt(S, t):\n",
    "#     the1, z1, the2, z2 = S\n",
    "#     return [\n",
    "#         dthe1dt_f(z1),\n",
    "#         dz1dt_f(t, m, g, w, l, a,c, alpha, the1, the2, z1, z2),\n",
    "#         dthe2dt_f(z2),\n",
    "#         dz2dt_f(t, m, g, w, l, a,c, alpha, the1, the2, z1, z2),\n",
    "#     ]\n",
    "# #Some numerical values to get a solution\n",
    "\n",
    "# t = np.linspace(0, 50, 1000)\n",
    "# g = 9.81\n",
    "# m=1\n",
    "# l = 1\n",
    "# a = 0.1\n",
    "# w = np.sqrt(g/l)\n",
    "# ans = odeint(dSdt, y0=[0, 0, 0, 0], t=t)"
   ]
  },
  {
   "cell_type": "code",
   "execution_count": 26,
   "id": "ff846981",
   "metadata": {},
   "outputs": [],
   "source": [
    "import numpy as np\n",
    "from scipy.integrate import odeint\n",
    "import sympy as sp\n",
    "\n",
    "# Define the symbolic variables\n",
    "t, m, g, w, l, a, c, alpha, the1, the2, the1_d, the2_d = sp.symbols('t m g w l a c alpha the1 the2 the1_d the2_d')\n",
    "\n",
    "# Define the symbolic expressions for the derivatives (replace this with your actual expressions)\n",
    "sols = {the1_dd: sp.sin(the1), the2_dd: sp.cos(the2)}\n",
    "\n",
    "# Lambdify the symbolic expressions\n",
    "dz1dt_f = sp.lambdify((t, m, g, w, l, a, c, alpha, the1, the2, the1_d, the2_d), sols[the1_dd])\n",
    "dthe1dt_f = sp.lambdify(the1_d, the1_d)\n",
    "\n",
    "dz2dt_f = sp.lambdify((t, m, g, w, l, a, c, alpha, the1, the2, the1_d, the2_d), sols[the2_dd])\n",
    "dthe2dt_f = sp.lambdify(the2_d, the2_d)\n",
    "\n",
    "def dSdt(S, t):\n",
    "    the1, z1, the2, z2 = S\n",
    "    return [\n",
    "        dthe1dt_f(z1),\n",
    "        dz1dt_f(t, m, g, w, l, a, c, alpha, the1, the2, z1, z2),\n",
    "        dthe2dt_f(z2),\n",
    "        dz2dt_f(t, m, g, w, l, a, c, alpha, the1, the2, z1, z2),\n",
    "    ]\n",
    "\n",
    "# Some numerical values to get a solution\n",
    "t = np.linspace(0, 50, 1000)\n",
    "g = 9.81\n",
    "m = 1\n",
    "l = 20\n",
    "a = 1\n",
    "w = 10\n",
    "ans = odeint(dSdt, y0=[0, 0, 0, 0], t=t)\n"
   ]
  },
  {
   "cell_type": "code",
   "execution_count": 27,
   "id": "09be4e26",
   "metadata": {},
   "outputs": [
    {
     "data": {
      "image/png": "[encoded data removed]",
      "text/plain": [
       "<Figure size 432x288 with 1 Axes>"
      ]
     },
     "metadata": {
      "needs_background": "light"
     },
     "output_type": "display_data"
    }
   ],
   "source": [
    "def get_energy(w):\n",
    "    t = np.linspace(0, 100, 2000)\n",
    "    ans = odeint(dSdt, y0=[0.1, 0.1, 0, 0], t=t)\n",
    "    vx1 = vx1_f(t,w,l,a,ans.T[0],ans.T[2],ans.T[1],ans.T[3])\n",
    "    vx2 = vx2_f(t,w,l,a,ans.T[0],ans.T[2],ans.T[1],ans.T[3])\n",
    "    vy1 = vy1_f(t,w,l,a,ans.T[0],ans.T[2],ans.T[1],ans.T[3])\n",
    "    vy2 = vy2_f(t,w,l,a,ans.T[0],ans.T[2],ans.T[1],ans.T[3])\n",
    "    E = 1/2 * np.mean(vx1**2+vx2**2+vy1**2+vy2**2) \n",
    "    return E\n",
    "\n",
    "ws = np.linspace(-6, 6, 100)\n",
    "Es = np.vectorize(get_energy)(ws) \n",
    "#Plot the kinetic energy of the system for different values of \n",
    "\n",
    "plt.plot(ws, Es)\n",
    "plt.axvline(5.785, c='k', ls='--')\n",
    "plt.axvline(-0.0707, c='k', ls='--')\n",
    "# Tautochrone\n",
    "#plt.axvline(np.sqrt(np.pi*g**(-1/2)), c='k', ls='--')\n",
    "plt.grid()"
   ]
  },
  {
   "cell_type": "code",
   "execution_count": 28,
   "id": "94d9c9fc",
   "metadata": {},
   "outputs": [],
   "source": [
    "t = np.linspace(0, 200, 20000)\n",
    "g = 9.81\n",
    "m=1\n",
    "l = 20\n",
    "a = 1\n",
    "w = ws[ws<0][np.argmax(Es[ws<0])]\n",
    "ans = odeint(dSdt, y0=[0.1, 0.1, 0, 0], t=t)\n",
    "\n",
    "def get_x0y0x1y1x2y2(t, the1, the2, l, a):\n",
    "    return (np.sin(w*t),\n",
    "            0*t,\n",
    "            np.sin(w*t) + l*np.sin(the1),\n",
    "            -l*np.cos(the1),\n",
    "            np.sin(w*t) + l*np.sin(the1) + l*np.sin(the2),\n",
    "            -l*np.cos(the1) - l*np.cos(the2),\n",
    "    )\n",
    "\n",
    "x0, y0, x1, y1, x2, y2 = get_x0y0x1y1x2y2(t, ans.T[0], ans.T[2], l, a)"
   ]
  },
  {
   "cell_type": "code",
   "execution_count": 30,
   "id": "c5dda4e0",
   "metadata": {},
   "outputs": [
    {
     "data": {
      "text/plain": [
       "[<matplotlib.lines.Line2D at 0x1e2591a7dc0>]"
      ]
     },
     "execution_count": 30,
     "metadata": {},
     "output_type": "execute_result"
    },
    {
     "data": {
      "image/png": "[encoded data removed]",
      "text/plain": [
       "<Figure size 432x288 with 1 Axes>"
      ]
     },
     "metadata": {
      "needs_background": "light"
     },
     "output_type": "display_data"
    }
   ],
   "source": [
    "plt.plot(t,ans.T[0])"
   ]
  },
  {
   "cell_type": "code",
   "execution_count": 31,
   "id": "45d10ad8",
   "metadata": {},
   "outputs": [
    {
     "data": {
      "text/plain": [
       "[<matplotlib.lines.Line2D at 0x1e25c4086d0>]"
      ]
     },
     "execution_count": 31,
     "metadata": {},
     "output_type": "execute_result"
    },
    {
     "data": {
      "image/png": "[encoded data removed]",
      "text/plain": [
       "<Figure size 432x288 with 1 Axes>"
      ]
     },
     "metadata": {
      "needs_background": "light"
     },
     "output_type": "display_data"
    }
   ],
   "source": [
    "plt.plot(t,ans.T[2])"
   ]
  },
  {
   "cell_type": "code",
   "execution_count": 33,
   "id": "f8244dd8",
   "metadata": {},
   "outputs": [],
   "source": [
    "# def animate(i):\n",
    "#     ln1.set_data([x0[::10][i], x1[::10][i], x2[::10][i]], [y0[::10][i], y1[::10][i], y2[::10][i]])\n",
    "#     trail1 = 50            # length of motion trail of weight 1 \n",
    "#     trail2 = 50            # length of motion trail of weight 2\n",
    "#     ln2.set_data(x1[::10][i:max(1,i-trail1):-1], y1[::10][i:max(1,i-trail1):-1])   # marker + line of first weight\n",
    "#     ln3.set_data(x2[::10][i:max(1,i-trail2):-1], y2[::10][i:max(1,i-trail2):-1])   # marker + line of the second weight\n",
    "    \n",
    "# fig, ax = plt.subplots(1,1, figsize=(8,8))\n",
    "# ax.set_facecolor('k')\n",
    "# ax.get_xaxis().set_ticks([])    # enable this to hide x axis ticks\n",
    "# ax.get_yaxis().set_ticks([])    # enable this to hide y axis ticks\n",
    "# ln1, = plt.plot([], [], 'ro--', lw=3, markersize=8)\n",
    "# ln2, = ax.plot([], [], 'ro-',markersize = 8, alpha=0.05, color='cyan')   # line for Earth\n",
    "# ln3, = ax.plot([], [], 'ro-',markersize = 8,alpha=0.05, color='cyan')\n",
    "# ax.set_ylim(-44,44)\n",
    "# ax.set_xlim(-44,44)\n",
    "# ani = animation.FuncAnimation(fig, animate, frames=2000, interval=50)\n",
    "# ani.save('pen.gif',writer='pillow',fps=50)"
   ]
  },
  {
   "cell_type": "code",
   "execution_count": null,
   "id": "446bcd3a",
   "metadata": {},
   "outputs": [],
   "source": []
  }
 ],
 "metadata": {
  "kernelspec": {
   "display_name": "Python 3 (ipykernel)",
   "language": "python",
   "name": "python3"
  },
  "language_info": {
   "codemirror_mode": {
    "name": "ipython",
    "version": 3
   },
   "file_extension": ".py",
   "mimetype": "text/x-python",
   "name": "python",
   "nbconvert_exporter": "python",
   "pygments_lexer": "ipython3",
   "version": "3.9.7"
  }
 },
 "nbformat": 4,
 "nbformat_minor": 5
}
